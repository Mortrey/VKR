{
  "nbformat": 4,
  "nbformat_minor": 0,
  "metadata": {
    "colab": {
      "provenance": []
    },
    "kernelspec": {
      "name": "python3",
      "display_name": "Python 3"
    },
    "language_info": {
      "name": "python"
    }
  },
  "cells": [
    {
      "cell_type": "markdown",
      "metadata": {
        "id": "PC2XM9ueyLhu"
      },
      "source": [
        "# Image Classification: Dense Neural Network\n",
        "\n",
        "[![Open In Colab <](https://colab.research.google.com/assets/colab-badge.svg)](https://colab.research.google.com/github/ShawnHymel/computer-vision-with-embedded-machine-learning/blob/master/1.2.3%20-%20Training%20an%20Image%20Classifier%20with%20Keras/image_classifier_dnn.ipynb)\n",
        "\n",
        "Run this notebook to train a dense neural network (DNN) on your own image dataset.\n",
        "\n",
        "Based on: https://colab.research.google.com/github/AviatorMoser/keras-mnist-tutorial/blob/master/MNIST%20in%20Keras.ipynb#scrollTo=rFFriuVPwhAm\n",
        "\n",
        "(I recommend working through the example above, as it has a lot of good descriptions on doing classification with images)\n",
        "\n",
        "Create a folder named \"dataset\" in the /content directory and upload your images there. The images should be divided into their respective classes, where each class has its own folder with the name of the class. For example:\n",
        "\n",
        "<pre>\n",
        "/content\n",
        "    |- dataset\n",
        "        |- background\n",
        "        |- capacitor\n",
        "        |- diode\n",
        "        |- led\n",
        "        |- resistor\n",
        "</pre>\n",
        "\n",
        "Author: EdgeImpulse, Inc.<br>\n",
        "Date: June 5, 2021<br>\n",
        "License: [Apache-2.0](apache.org/licenses/LICENSE-2.0)<br>"
      ]
    },
    {
      "cell_type": "markdown",
      "source": [
        "Вот иакую дорожку"
      ],
      "metadata": {
        "id": "nYtwS6iLtttq"
      }
    },
    {
      "cell_type": "code",
      "metadata": {
        "id": "jhHG2__GyJjs"
      },
      "source": [
        "import numpy as np\n",
        "import matplotlib.pyplot as plt\n",
        "import random\n",
        "import os\n",
        "import PIL\n",
        "\n",
        "from keras.utils import np_utils                          # tools for creating one-hot encoding\n",
        "from keras.models import Sequential                       # Type of model we wish to use\n",
        "from keras.layers.core import Dense, Dropout, Activation  # Types of layers we wish to use\n",
        "\n",
        "from skimage.transform import resize                      # Used to scale/resize image arrays\n",
        "\n",
        "from sklearn.metrics import confusion_matrix              # Used to quickly make confusion matrix"
      ],
      "execution_count": 1,
      "outputs": []
    },
    {
      "cell_type": "code",
      "metadata": {
        "id": "wu2l_Lm0yhtJ"
      },
      "source": [
        "### Settings\n",
        "\n",
        "# Location of dataset\n",
        "DATASET_PATH = \"/content/dataset\"\n",
        "\n",
        "# Desired resolution of images - мы хотим превратить наши изображения в простенькие картинки 28 на 28 и все в оттенках серого\n",
        "TARGET_WIDTH = 28\n",
        "TARGET_HEIGHT = 28\n",
        "\n",
        "# Invert image (dark backgrounds can sometimes improve accuracy)\n",
        "INVERT = False\n",
        "\n",
        "# Set aside 20% for validation and 20% for test\n",
        "VAL_RATIO = 0.2\n",
        "TEST_RATIO = 0.2\n",
        "\n",
        "# You are welcome to change the seed to try a different validation set split\n",
        "random.seed(42)"
      ],
      "execution_count": 3,
      "outputs": []
    },
    {
      "cell_type": "code",
      "metadata": {
        "colab": {
          "base_uri": "https://localhost:8080/"
        },
        "id": "FXcJLxcv0yOT",
        "outputId": "fe6c965e-ea8e-4b01-e429-3304acb1e7d0"
      },
      "source": [
        "### Load images as Numpy arrays\n",
        "\n",
        "# We want to record the labels and assign a ground truth label as a number to each sample\n",
        "labels = []\n",
        "y_all = []    # Lowercase 'y' - 1D vector of the ground labels (n)\n",
        "X_all = []    # Uppercase 'X' - 3D array of all image samples (n x width x height)\n",
        "\n",
        "# Find the directories in the dataset folder (skip the Jupyter Notebook checkpoints hidden folder)\n",
        "for label in os.listdir(DATASET_PATH):\n",
        "  class_dir = os.path.join(DATASET_PATH, label)\n",
        "  if os.path.isdir(class_dir) and label != \".ipynb_checkpoints\":\n",
        "\n",
        "    # Add the name of the folder to our labels list\n",
        "    labels.append(label)\n",
        "\n",
        "    # Go through each image in the folder\n",
        "    for i, file in enumerate(os.listdir(class_dir)):\n",
        "\n",
        "      # Skip the Jupyter Notebook checkpoints folder that sometimes gets added\n",
        "      if file != \".ipynb_checkpoints\":\n",
        "\n",
        "        # Open image and convert to grayscale\n",
        "        file_path = os.path.join(class_dir, file)\n",
        "        img = PIL.Image.open(file_path).convert('L')\n",
        "\n",
        "        # Convert the image to a Numpy array, optionally invern, and append to X\n",
        "        img_array = np.asarray(img)\n",
        "        if INVERT:\n",
        "          img_array = 255 - img_array\n",
        "        X_all.append(img_array)\n",
        "\n",
        "        # Add label to the y array\n",
        "        y_all.append(label)\n",
        "\n",
        "    # Show how many images we loaded\n",
        "    print(\"Added\", str(i + 1), \"images from\", label)\n",
        "\n",
        "# Calculate total number of samples\n",
        "num_samples = len(X_all)\n",
        "\n",
        "# Sort the labels list by alphabetical order\n",
        "labels = sorted(labels)\n",
        "\n",
        "# Print out labels and number of samples\n",
        "print(labels)\n",
        "print(\"Number of samples:\", num_samples)"
      ],
      "execution_count": 4,
      "outputs": [
        {
          "output_type": "stream",
          "name": "stdout",
          "text": [
            "Added 50 images from diode\n",
            "Added 50 images from led\n",
            "Added 50 images from capacitor\n",
            "Added 50 images from resistor\n",
            "Added 50 images from background\n",
            "['background', 'capacitor', 'diode', 'led', 'resistor']\n",
            "Number of samples: 250\n"
          ]
        }
      ]
    },
    {
      "cell_type": "code",
      "metadata": {
        "colab": {
          "base_uri": "https://localhost:8080/"
        },
        "id": "_ux1q5Z_nFq0",
        "outputId": "16ec8094-6c4c-4c57-8f65-8f1102baccd0"
      },
      "source": [
        "### Convert labels to numbers\n",
        "\n",
        "# Show the labels before the conversion\n",
        "print(\"Before:\", y_all)\n",
        "\n",
        "# Convert each label to its index in the labels\n",
        "y_out = []\n",
        "for i, label in enumerate(y_all):\n",
        "  y_out.append(labels.index(label))\n",
        "y_all = y_out\n",
        "\n",
        "# Show the labels after the conversion\n",
        "print(\"After:\", y_all)"
      ],
      "execution_count": 5,
      "outputs": [
        {
          "output_type": "stream",
          "name": "stdout",
          "text": [
            "Before: ['diode', 'diode', 'diode', 'diode', 'diode', 'diode', 'diode', 'diode', 'diode', 'diode', 'diode', 'diode', 'diode', 'diode', 'diode', 'diode', 'diode', 'diode', 'diode', 'diode', 'diode', 'diode', 'diode', 'diode', 'diode', 'diode', 'diode', 'diode', 'diode', 'diode', 'diode', 'diode', 'diode', 'diode', 'diode', 'diode', 'diode', 'diode', 'diode', 'diode', 'diode', 'diode', 'diode', 'diode', 'diode', 'diode', 'diode', 'diode', 'diode', 'diode', 'led', 'led', 'led', 'led', 'led', 'led', 'led', 'led', 'led', 'led', 'led', 'led', 'led', 'led', 'led', 'led', 'led', 'led', 'led', 'led', 'led', 'led', 'led', 'led', 'led', 'led', 'led', 'led', 'led', 'led', 'led', 'led', 'led', 'led', 'led', 'led', 'led', 'led', 'led', 'led', 'led', 'led', 'led', 'led', 'led', 'led', 'led', 'led', 'led', 'led', 'capacitor', 'capacitor', 'capacitor', 'capacitor', 'capacitor', 'capacitor', 'capacitor', 'capacitor', 'capacitor', 'capacitor', 'capacitor', 'capacitor', 'capacitor', 'capacitor', 'capacitor', 'capacitor', 'capacitor', 'capacitor', 'capacitor', 'capacitor', 'capacitor', 'capacitor', 'capacitor', 'capacitor', 'capacitor', 'capacitor', 'capacitor', 'capacitor', 'capacitor', 'capacitor', 'capacitor', 'capacitor', 'capacitor', 'capacitor', 'capacitor', 'capacitor', 'capacitor', 'capacitor', 'capacitor', 'capacitor', 'capacitor', 'capacitor', 'capacitor', 'capacitor', 'capacitor', 'capacitor', 'capacitor', 'capacitor', 'capacitor', 'capacitor', 'resistor', 'resistor', 'resistor', 'resistor', 'resistor', 'resistor', 'resistor', 'resistor', 'resistor', 'resistor', 'resistor', 'resistor', 'resistor', 'resistor', 'resistor', 'resistor', 'resistor', 'resistor', 'resistor', 'resistor', 'resistor', 'resistor', 'resistor', 'resistor', 'resistor', 'resistor', 'resistor', 'resistor', 'resistor', 'resistor', 'resistor', 'resistor', 'resistor', 'resistor', 'resistor', 'resistor', 'resistor', 'resistor', 'resistor', 'resistor', 'resistor', 'resistor', 'resistor', 'resistor', 'resistor', 'resistor', 'resistor', 'resistor', 'resistor', 'resistor', 'background', 'background', 'background', 'background', 'background', 'background', 'background', 'background', 'background', 'background', 'background', 'background', 'background', 'background', 'background', 'background', 'background', 'background', 'background', 'background', 'background', 'background', 'background', 'background', 'background', 'background', 'background', 'background', 'background', 'background', 'background', 'background', 'background', 'background', 'background', 'background', 'background', 'background', 'background', 'background', 'background', 'background', 'background', 'background', 'background', 'background', 'background', 'background', 'background', 'background']\n",
            "After: [2, 2, 2, 2, 2, 2, 2, 2, 2, 2, 2, 2, 2, 2, 2, 2, 2, 2, 2, 2, 2, 2, 2, 2, 2, 2, 2, 2, 2, 2, 2, 2, 2, 2, 2, 2, 2, 2, 2, 2, 2, 2, 2, 2, 2, 2, 2, 2, 2, 2, 3, 3, 3, 3, 3, 3, 3, 3, 3, 3, 3, 3, 3, 3, 3, 3, 3, 3, 3, 3, 3, 3, 3, 3, 3, 3, 3, 3, 3, 3, 3, 3, 3, 3, 3, 3, 3, 3, 3, 3, 3, 3, 3, 3, 3, 3, 3, 3, 3, 3, 1, 1, 1, 1, 1, 1, 1, 1, 1, 1, 1, 1, 1, 1, 1, 1, 1, 1, 1, 1, 1, 1, 1, 1, 1, 1, 1, 1, 1, 1, 1, 1, 1, 1, 1, 1, 1, 1, 1, 1, 1, 1, 1, 1, 1, 1, 1, 1, 1, 1, 4, 4, 4, 4, 4, 4, 4, 4, 4, 4, 4, 4, 4, 4, 4, 4, 4, 4, 4, 4, 4, 4, 4, 4, 4, 4, 4, 4, 4, 4, 4, 4, 4, 4, 4, 4, 4, 4, 4, 4, 4, 4, 4, 4, 4, 4, 4, 4, 4, 4, 0, 0, 0, 0, 0, 0, 0, 0, 0, 0, 0, 0, 0, 0, 0, 0, 0, 0, 0, 0, 0, 0, 0, 0, 0, 0, 0, 0, 0, 0, 0, 0, 0, 0, 0, 0, 0, 0, 0, 0, 0, 0, 0, 0, 0, 0, 0, 0, 0, 0]\n"
          ]
        }
      ]
    },
    {
      "cell_type": "code",
      "metadata": {
        "colab": {
          "base_uri": "https://localhost:8080/"
        },
        "id": "oJrS0Oz31NkI",
        "outputId": "d97cb071-d392-4f97-8151-4e475886457a"
      },
      "source": [
        "### Shuffle samples and labels together, divide into test, validation, and training sets\n",
        "\n",
        "# Shuffle samples and associated labels together\n",
        "X_y = list(zip(X_all, y_all))\n",
        "random.shuffle(X_y)\n",
        "X_all, y_all = zip(*X_y)\n",
        "\n",
        "# Calculate number of validation and test samples to put aside (round down)\n",
        "num_samples_test = int(TEST_RATIO * num_samples)\n",
        "num_samples_val = int(VAL_RATIO * num_samples)\n",
        "\n",
        "# The first `num_samples_test` samples of the shuffled list becomes the test set\n",
        "X_test = X_all[:num_samples_test]\n",
        "y_test = y_all[:num_samples_test]\n",
        "\n",
        "# The next `num_samples_val` samples of the shuffled list becomes the validation set\n",
        "X_val = X_all[num_samples_test:(num_samples_test + num_samples_val)]\n",
        "y_val = y_all[num_samples_test:(num_samples_test + num_samples_val)]\n",
        "\n",
        "# The remaining samples become the training set\n",
        "X_train = X_all[(num_samples_test + num_samples_val):]\n",
        "y_train = y_all[(num_samples_test + num_samples_val):]\n",
        "\n",
        "# Remember the number of samples in the test set\n",
        "num_samples_train = len(X_train)\n",
        "\n",
        "# Print out the number of test, validation, and training samples\n",
        "print(\"Number of test samples:\", num_samples_test)\n",
        "print(\"Number of validation samples:\", num_samples_val)\n",
        "print(\"Number of training samples:\", num_samples_train)"
      ],
      "execution_count": 6,
      "outputs": [
        {
          "output_type": "stream",
          "name": "stdout",
          "text": [
            "Number of test samples: 50\n",
            "Number of validation samples: 50\n",
            "Number of training samples: 150\n"
          ]
        }
      ]
    },
    {
      "cell_type": "code",
      "metadata": {
        "colab": {
          "base_uri": "https://localhost:8080/",
          "height": 597
        },
        "id": "6FwDtw_DazYG",
        "outputId": "929b4114-ee25-457f-9ffe-976d128f64b8"
      },
      "source": [
        "### View one of the training samples\n",
        "\n",
        "# Chose which sample you want to view\n",
        "idx = 0\n",
        "\n",
        "# Print out label (numbe and string) and part of the array\n",
        "print(\"Label: \" + str(y_train[idx]) + \" (\" + labels[y_train[idx]] + \")\")\n",
        "print(X_train[idx])\n",
        "\n",
        "# Display image from array\n",
        "plt.imshow(X_train[idx], cmap='gray', vmin=0, vmax=255)"
      ],
      "execution_count": 7,
      "outputs": [
        {
          "output_type": "stream",
          "name": "stdout",
          "text": [
            "Label: 1 (capacitor)\n",
            "[[146 146 146 ... 149 149 149]\n",
            " [146 146 146 ... 149 149 149]\n",
            " [146 146 146 ... 149 149 149]\n",
            " ...\n",
            " [146 146 146 ... 154 154 154]\n",
            " [146 146 146 ... 154 154 154]\n",
            " [146 146 146 ... 154 154 157]]\n"
          ]
        },
        {
          "output_type": "execute_result",
          "data": {
            "text/plain": [
              "<matplotlib.image.AxesImage at 0x7a8f1946b910>"
            ]
          },
          "metadata": {},
          "execution_count": 7
        },
        {
          "output_type": "display_data",
          "data": {
            "text/plain": [
              "<Figure size 640x480 with 1 Axes>"
            ],
            "image/png": "[encoded data removed]"
          },
          "metadata": {}
        }
      ]
    },
    {
      "cell_type": "code",
      "metadata": {
        "id": "7eVgRZnHc6_y"
      },
      "source": [
        "### Function to resize list of images\n",
        "def resize_images(images, width, height, anti_aliasing=True):\n",
        "  \"\"\"\n",
        "  Prove a list of Numpy arrays (in images parameter) to have them all resized to desired height and\n",
        "  width. Returns the list of newly resized image arrays.\n",
        "\n",
        "  NOTE: skimage resize returns *normalized* image arrays (values between 0..1)\n",
        "  \"\"\"\n",
        "  X_out = []\n",
        "  for i, img in enumerate(images):\n",
        "    X_out.append(resize(img, (height, width), anti_aliasing=anti_aliasing))\n",
        "  return X_out"
      ],
      "execution_count": 8,
      "outputs": []
    },
    {
      "cell_type": "code",
      "metadata": {
        "id": "YNpuq5Lxa9Ck"
      },
      "source": [
        "### Scale/crop images\n",
        "\n",
        "# Resize (scale) all images in the training set\n",
        "X_train = resize_images(X_train, TARGET_WIDTH, TARGET_HEIGHT)\n",
        "\n",
        "# Resize (scale) all images in the validation set\n",
        "X_val = resize_images(X_val, TARGET_WIDTH, TARGET_HEIGHT)\n",
        "\n",
        "# Resize (scale) all images in the test set\n",
        "X_test = resize_images(X_test, TARGET_WIDTH, TARGET_HEIGHT)"
      ],
      "execution_count": 9,
      "outputs": []
    },
    {
      "cell_type": "code",
      "metadata": {
        "colab": {
          "base_uri": "https://localhost:8080/",
          "height": 558
        },
        "id": "tL9W4Pw1cVon",
        "outputId": "c314b2c4-e9de-49af-89c4-62d9fe3c4913"
      },
      "source": [
        "### View training sample again (after they all have been scaled)\n",
        "\n",
        "# Chose which sample you want to view\n",
        "idx = 0\n",
        "\n",
        "# Print out label (numbe and string) and part of the array\n",
        "print(\"Label: \" + str(y_train[idx]) + \" (\" + labels[y_train[idx]] + \")\")\n",
        "print(\"First row:\", X_train[idx][:1,:])\n",
        "\n",
        "# Display image from array (note that images have been normalized)\n",
        "plt.imshow(X_train[idx], cmap='gray', vmin=0, vmax=1)"
      ],
      "execution_count": 10,
      "outputs": [
        {
          "output_type": "stream",
          "name": "stdout",
          "text": [
            "Label: 1 (capacitor)\n",
            "First row: [[0.57254902 0.57254912 0.5725679  0.57257534 0.57367395 0.58347236\n",
            "  0.58431355 0.58431373 0.58431379 0.58431393 0.58432255 0.58439759\n",
            "  0.58502793 0.58650047 0.58668359 0.58495776 0.58448375 0.58444144\n",
            "  0.58711382 0.58743703 0.59303543 0.60228839 0.59988993 0.58926118\n",
            "  0.58446863 0.58449951 0.58436216 0.5844183 ]]\n"
          ]
        },
        {
          "output_type": "execute_result",
          "data": {
            "text/plain": [
              "<matplotlib.image.AxesImage at 0x7a8e8779cf10>"
            ]
          },
          "metadata": {},
          "execution_count": 10
        },
        {
          "output_type": "display_data",
          "data": {
            "text/plain": [
              "<Figure size 640x480 with 1 Axes>"
            ],
            "image/png": "[encoded data removed]"
          },
          "metadata": {}
        }
      ]
    },
    {
      "cell_type": "code",
      "metadata": {
        "colab": {
          "base_uri": "https://localhost:8080/"
        },
        "id": "E13XUha044fM",
        "outputId": "4cecd2e8-b697-4635-ec1d-553e98c4ae98"
      },
      "source": [
        "### Convert list of samples and labels into Numpy arrays\n",
        "\n",
        "# Training set\n",
        "X_train = np.asarray(X_train)\n",
        "y_train = np.asarray(y_train)\n",
        "\n",
        "# Validation set\n",
        "X_val = np.asarray(X_val)\n",
        "y_val = np.asarray(y_val)\n",
        "\n",
        "# Test set\n",
        "X_test = np.asarray(X_test)\n",
        "y_test = np.asarray(y_test)\n",
        "\n",
        "# Print out the new Numpy array shapes (always a good idea to check the shapes!)\n",
        "print(\"Training X:\", X_train.shape)\n",
        "print(\"Training y:\", y_train.shape)\n",
        "print(\"Validation X:\", X_val.shape)\n",
        "print(\"Validation y:\", y_val.shape)\n",
        "print(\"Test X:\", X_test.shape)\n",
        "print(\"Test y:\", y_test.shape)"
      ],
      "execution_count": 11,
      "outputs": [
        {
          "output_type": "stream",
          "name": "stdout",
          "text": [
            "Training X: (150, 28, 28)\n",
            "Training y: (150,)\n",
            "Validation X: (50, 28, 28)\n",
            "Validation y: (50,)\n",
            "Test X: (50, 28, 28)\n",
            "Test y: (50,)\n"
          ]
        }
      ]
    },
    {
      "cell_type": "code",
      "metadata": {
        "id": "Bf-p0MnJ9csm",
        "colab": {
          "base_uri": "https://localhost:8080/"
        },
        "outputId": "e1c89a46-c935-4daf-9a3b-26268b98e2ab"
      },
      "source": [
        "### Flatten each image to a 1D vector (DNN requires 1D input)\n",
        "\n",
        "# Compute length of 1D array that we will flatten each image to\n",
        "len_vector = TARGET_WIDTH * TARGET_WIDTH\n",
        "\n",
        "# Flatten matricies to vectors\n",
        "X_train = X_train.reshape(num_samples_train, len_vector)\n",
        "X_val = X_val.reshape(num_samples_val, len_vector)\n",
        "X_test = X_test.reshape(num_samples_test, len_vector)\n",
        "\n",
        "# Determine the input shape for our Keras model (must be tuple)\n",
        "input_shape = (X_train.shape[1],)\n",
        "\n",
        "# Print out shapes\n",
        "print(\"X train:\", X_train.shape)\n",
        "print(\"y train:\", y_train.shape)\n",
        "print(\"X val:\", X_val.shape)\n",
        "print(\"y val:\", y_val.shape)\n",
        "print(\"X test:\", X_test.shape)\n",
        "print(\"y test:\", y_test.shape)\n",
        "print(\"Input tensor shape:\", input_shape)"
      ],
      "execution_count": 12,
      "outputs": [
        {
          "output_type": "stream",
          "name": "stdout",
          "text": [
            "X train: (150, 784)\n",
            "y train: (150,)\n",
            "X val: (50, 784)\n",
            "y val: (50,)\n",
            "X test: (50, 784)\n",
            "y test: (50,)\n",
            "Input tensor shape: (784,)\n"
          ]
        }
      ]
    },
    {
      "cell_type": "code",
      "metadata": {
        "id": "m2D1xsis98pW",
        "colab": {
          "base_uri": "https://localhost:8080/"
        },
        "outputId": "5247cd8a-439a-4900-a7c9-d77d5419d535"
      },
      "source": [
        "### Convert labels (integers) to one-hot encoding\n",
        "\n",
        "# Get number of classes\n",
        "num_classes = len(labels)\n",
        "\n",
        "# Use Keras's np_utils to create one-hot encoding (note the capital 'Y' - 2D array)\n",
        "Y_train = np_utils.to_categorical(y_train, num_classes)\n",
        "Y_val = np_utils.to_categorical(y_val, num_classes)\n",
        "Y_test = np_utils.to_categorical(y_test, num_classes)\n",
        "\n",
        "# Print out shapes (capital 'Y' is our one-hot matrix!)\n",
        "print(\"Y train:\", Y_train.shape)\n",
        "print(\"Y val:\", Y_val.shape)\n",
        "print(\"Y test:\", Y_test.shape)\n",
        "\n",
        "# Print out a few examples from training set\n",
        "for i in range(10):\n",
        "  print(\"Label: \" + str(y_train[i]) + \" | One-hot:\", Y_train[i])"
      ],
      "execution_count": 13,
      "outputs": [
        {
          "output_type": "stream",
          "name": "stdout",
          "text": [
            "Y train: (150, 5)\n",
            "Y val: (50, 5)\n",
            "Y test: (50, 5)\n",
            "Label: 1 | One-hot: [0. 1. 0. 0. 0.]\n",
            "Label: 1 | One-hot: [0. 1. 0. 0. 0.]\n",
            "Label: 0 | One-hot: [1. 0. 0. 0. 0.]\n",
            "Label: 0 | One-hot: [1. 0. 0. 0. 0.]\n",
            "Label: 0 | One-hot: [1. 0. 0. 0. 0.]\n",
            "Label: 2 | One-hot: [0. 0. 1. 0. 0.]\n",
            "Label: 1 | One-hot: [0. 1. 0. 0. 0.]\n",
            "Label: 4 | One-hot: [0. 0. 0. 0. 1.]\n",
            "Label: 1 | One-hot: [0. 1. 0. 0. 0.]\n",
            "Label: 2 | One-hot: [0. 0. 1. 0. 0.]\n"
          ]
        }
      ]
    },
    {
      "cell_type": "code",
      "metadata": {
        "id": "uJK-b2ds94w4",
        "colab": {
          "base_uri": "https://localhost:8080/"
        },
        "outputId": "31dd93ba-f305-4115-81b3-f232f8013ade"
      },
      "source": [
        "### Construct Keras model\n",
        "\n",
        "# A sequential model is a linear stack of layers\n",
        "model = Sequential()\n",
        "\n",
        "# First layer: fully-connected with relu activation\n",
        "model.add(Dense(64, input_shape=input_shape))\n",
        "model.add(Activation('relu'))\n",
        "model.add(Dropout(0.25))\n",
        "\n",
        "# Second layer: fully-connected with relu activation\n",
        "model.add(Dense(64))   # Input shape is determined automatically from previous layer\n",
        "model.add(Activation('relu'))\n",
        "model.add(Dropout(0.25))\n",
        "\n",
        "# Third layer: 10 nodes, one for each class, and softmax activation\n",
        "model.add(Dense(num_classes))\n",
        "model.add(Activation('softmax'))\n",
        "\n",
        "# Configure the model's training settings\n",
        "model.compile(loss='categorical_crossentropy', optimizer='adam', metrics=['acc'])\n",
        "\n",
        "# Print out model summary\n",
        "print(model.summary())"
      ],
      "execution_count": 14,
      "outputs": [
        {
          "output_type": "stream",
          "name": "stdout",
          "text": [
            "Model: \"sequential\"\n",
            "_________________________________________________________________\n",
            " Layer (type)                Output Shape              Param #   \n",
            "=================================================================\n",
            " dense (Dense)               (None, 64)                50240     \n",
            "                                                                 \n",
            " activation (Activation)     (None, 64)                0         \n",
            "                                                                 \n",
            " dropout (Dropout)           (None, 64)                0         \n",
            "                                                                 \n",
            " dense_1 (Dense)             (None, 64)                4160      \n",
            "                                                                 \n",
            " activation_1 (Activation)   (None, 64)                0         \n",
            "                                                                 \n",
            " dropout_1 (Dropout)         (None, 64)                0         \n",
            "                                                                 \n",
            " dense_2 (Dense)             (None, 5)                 325       \n",
            "                                                                 \n",
            " activation_2 (Activation)   (None, 5)                 0         \n",
            "                                                                 \n",
            "=================================================================\n",
            "Total params: 54,725\n",
            "Trainable params: 54,725\n",
            "Non-trainable params: 0\n",
            "_________________________________________________________________\n",
            "None\n"
          ]
        }
      ]
    },
    {
      "cell_type": "code",
      "metadata": {
        "colab": {
          "base_uri": "https://localhost:8080/"
        },
        "id": "4Rc0O_86pmwb",
        "outputId": "522160db-aba9-4673-afe4-87e43cb45b47"
      },
      "source": [
        "### Train the model\n",
        "history = model.fit(X_train,\n",
        "                    Y_train,\n",
        "                    batch_size=32,\n",
        "                    epochs=200,\n",
        "                    verbose=1,\n",
        "                    validation_data=(X_val, Y_val))"
      ],
      "execution_count": 15,
      "outputs": [
        {
          "output_type": "stream",
          "name": "stdout",
          "text": [
            "Epoch 1/200\n",
            "5/5 [==============================] - 3s 160ms/step - loss: 1.7748 - acc: 0.1733 - val_loss: 1.5772 - val_acc: 0.2600\n",
            "Epoch 2/200\n",
            "5/5 [==============================] - 0s 22ms/step - loss: 1.6668 - acc: 0.1933 - val_loss: 1.5341 - val_acc: 0.4800\n",
            "Epoch 3/200\n",
            "5/5 [==============================] - 0s 51ms/step - loss: 1.5439 - acc: 0.3267 - val_loss: 1.4905 - val_acc: 0.5400\n",
            "Epoch 4/200\n",
            "5/5 [==============================] - 0s 29ms/step - loss: 1.5234 - acc: 0.3533 - val_loss: 1.4680 - val_acc: 0.5200\n",
            "Epoch 5/200\n",
            "5/5 [==============================] - 0s 38ms/step - loss: 1.4480 - acc: 0.3667 - val_loss: 1.4040 - val_acc: 0.6400\n",
            "Epoch 6/200\n",
            "5/5 [==============================] - 0s 34ms/step - loss: 1.4448 - acc: 0.3533 - val_loss: 1.3506 - val_acc: 0.6400\n",
            "Epoch 7/200\n",
            "5/5 [==============================] - 0s 22ms/step - loss: 1.4122 - acc: 0.4000 - val_loss: 1.3044 - val_acc: 0.5800\n",
            "Epoch 8/200\n",
            "5/5 [==============================] - 0s 35ms/step - loss: 1.3681 - acc: 0.4667 - val_loss: 1.2827 - val_acc: 0.5800\n",
            "Epoch 9/200\n",
            "5/5 [==============================] - 0s 31ms/step - loss: 1.2768 - acc: 0.5933 - val_loss: 1.2135 - val_acc: 0.5800\n",
            "Epoch 10/200\n",
            "5/5 [==============================] - 0s 23ms/step - loss: 1.2683 - acc: 0.5267 - val_loss: 1.1212 - val_acc: 0.6600\n",
            "Epoch 11/200\n",
            "5/5 [==============================] - 0s 20ms/step - loss: 1.1671 - acc: 0.6133 - val_loss: 1.0696 - val_acc: 0.7000\n",
            "Epoch 12/200\n",
            "5/5 [==============================] - 0s 27ms/step - loss: 1.1050 - acc: 0.6133 - val_loss: 1.0131 - val_acc: 0.6400\n",
            "Epoch 13/200\n",
            "5/5 [==============================] - 0s 33ms/step - loss: 1.0892 - acc: 0.6000 - val_loss: 0.9523 - val_acc: 0.7000\n",
            "Epoch 14/200\n",
            "5/5 [==============================] - 0s 23ms/step - loss: 1.0740 - acc: 0.6067 - val_loss: 0.9133 - val_acc: 0.7600\n",
            "Epoch 15/200\n",
            "5/5 [==============================] - 0s 29ms/step - loss: 1.0164 - acc: 0.6400 - val_loss: 0.8754 - val_acc: 0.6600\n",
            "Epoch 16/200\n",
            "5/5 [==============================] - 0s 30ms/step - loss: 0.9686 - acc: 0.6533 - val_loss: 0.8539 - val_acc: 0.7000\n",
            "Epoch 17/200\n",
            "5/5 [==============================] - 0s 23ms/step - loss: 0.8794 - acc: 0.7133 - val_loss: 0.7744 - val_acc: 0.6800\n",
            "Epoch 18/200\n",
            "5/5 [==============================] - 0s 44ms/step - loss: 0.8476 - acc: 0.7000 - val_loss: 0.7315 - val_acc: 0.7800\n",
            "Epoch 19/200\n",
            "5/5 [==============================] - 0s 22ms/step - loss: 0.8529 - acc: 0.6533 - val_loss: 0.7103 - val_acc: 0.8000\n",
            "Epoch 20/200\n",
            "5/5 [==============================] - 0s 34ms/step - loss: 0.7657 - acc: 0.6933 - val_loss: 0.6743 - val_acc: 0.6800\n",
            "Epoch 21/200\n",
            "5/5 [==============================] - 0s 37ms/step - loss: 0.7762 - acc: 0.6800 - val_loss: 0.6761 - val_acc: 0.7000\n",
            "Epoch 22/200\n",
            "5/5 [==============================] - 0s 33ms/step - loss: 0.6829 - acc: 0.7867 - val_loss: 0.6172 - val_acc: 0.8000\n",
            "Epoch 23/200\n",
            "5/5 [==============================] - 0s 41ms/step - loss: 0.6851 - acc: 0.7333 - val_loss: 0.5906 - val_acc: 0.8000\n",
            "Epoch 24/200\n",
            "5/5 [==============================] - 0s 40ms/step - loss: 0.7058 - acc: 0.7200 - val_loss: 0.6060 - val_acc: 0.8400\n",
            "Epoch 25/200\n",
            "5/5 [==============================] - 0s 50ms/step - loss: 0.6488 - acc: 0.7667 - val_loss: 0.5864 - val_acc: 0.8400\n",
            "Epoch 26/200\n",
            "5/5 [==============================] - 0s 40ms/step - loss: 0.6132 - acc: 0.7600 - val_loss: 0.5764 - val_acc: 0.8200\n",
            "Epoch 27/200\n",
            "5/5 [==============================] - 0s 50ms/step - loss: 0.6254 - acc: 0.7467 - val_loss: 0.5691 - val_acc: 0.8200\n",
            "Epoch 28/200\n",
            "5/5 [==============================] - 0s 20ms/step - loss: 0.6487 - acc: 0.7333 - val_loss: 0.5528 - val_acc: 0.7800\n",
            "Epoch 29/200\n",
            "5/5 [==============================] - 0s 15ms/step - loss: 0.5976 - acc: 0.8000 - val_loss: 0.5660 - val_acc: 0.8400\n",
            "Epoch 30/200\n",
            "5/5 [==============================] - 0s 15ms/step - loss: 0.5701 - acc: 0.7867 - val_loss: 0.5513 - val_acc: 0.7800\n",
            "Epoch 31/200\n",
            "5/5 [==============================] - 0s 20ms/step - loss: 0.6063 - acc: 0.7267 - val_loss: 0.5272 - val_acc: 0.8000\n",
            "Epoch 32/200\n",
            "5/5 [==============================] - 0s 15ms/step - loss: 0.5103 - acc: 0.8467 - val_loss: 0.5256 - val_acc: 0.7600\n",
            "Epoch 33/200\n",
            "5/5 [==============================] - 0s 19ms/step - loss: 0.5129 - acc: 0.8200 - val_loss: 0.5022 - val_acc: 0.7800\n",
            "Epoch 34/200\n",
            "5/5 [==============================] - 0s 20ms/step - loss: 0.5827 - acc: 0.7867 - val_loss: 0.4720 - val_acc: 0.8600\n",
            "Epoch 35/200\n",
            "5/5 [==============================] - 0s 15ms/step - loss: 0.4888 - acc: 0.8267 - val_loss: 0.5264 - val_acc: 0.8200\n",
            "Epoch 36/200\n",
            "5/5 [==============================] - 0s 17ms/step - loss: 0.4484 - acc: 0.8400 - val_loss: 0.4946 - val_acc: 0.7800\n",
            "Epoch 37/200\n",
            "5/5 [==============================] - 0s 17ms/step - loss: 0.4988 - acc: 0.8400 - val_loss: 0.4845 - val_acc: 0.8000\n",
            "Epoch 38/200\n",
            "5/5 [==============================] - 0s 16ms/step - loss: 0.4715 - acc: 0.8333 - val_loss: 0.4944 - val_acc: 0.8400\n",
            "Epoch 39/200\n",
            "5/5 [==============================] - 0s 16ms/step - loss: 0.4448 - acc: 0.8467 - val_loss: 0.4636 - val_acc: 0.8400\n",
            "Epoch 40/200\n",
            "5/5 [==============================] - 0s 20ms/step - loss: 0.4845 - acc: 0.7867 - val_loss: 0.4877 - val_acc: 0.8600\n",
            "Epoch 41/200\n",
            "5/5 [==============================] - 0s 17ms/step - loss: 0.4602 - acc: 0.8067 - val_loss: 0.4948 - val_acc: 0.8200\n",
            "Epoch 42/200\n",
            "5/5 [==============================] - 0s 19ms/step - loss: 0.5430 - acc: 0.7867 - val_loss: 0.4413 - val_acc: 0.8600\n",
            "Epoch 43/200\n",
            "5/5 [==============================] - 0s 20ms/step - loss: 0.4303 - acc: 0.8533 - val_loss: 0.4456 - val_acc: 0.8600\n",
            "Epoch 44/200\n",
            "5/5 [==============================] - 0s 18ms/step - loss: 0.4370 - acc: 0.8267 - val_loss: 0.4596 - val_acc: 0.8000\n",
            "Epoch 45/200\n",
            "5/5 [==============================] - 0s 11ms/step - loss: 0.4076 - acc: 0.8333 - val_loss: 0.4861 - val_acc: 0.8000\n",
            "Epoch 46/200\n",
            "5/5 [==============================] - 0s 16ms/step - loss: 0.4303 - acc: 0.8400 - val_loss: 0.4449 - val_acc: 0.8600\n",
            "Epoch 47/200\n",
            "5/5 [==============================] - 0s 11ms/step - loss: 0.4092 - acc: 0.8733 - val_loss: 0.4405 - val_acc: 0.8600\n",
            "Epoch 48/200\n",
            "5/5 [==============================] - 0s 11ms/step - loss: 0.4218 - acc: 0.8200 - val_loss: 0.4300 - val_acc: 0.8600\n",
            "Epoch 49/200\n",
            "5/5 [==============================] - 0s 15ms/step - loss: 0.4467 - acc: 0.8467 - val_loss: 0.4467 - val_acc: 0.8400\n",
            "Epoch 50/200\n",
            "5/5 [==============================] - 0s 11ms/step - loss: 0.3809 - acc: 0.8400 - val_loss: 0.4179 - val_acc: 0.8600\n",
            "Epoch 51/200\n",
            "5/5 [==============================] - 0s 15ms/step - loss: 0.3896 - acc: 0.8733 - val_loss: 0.4090 - val_acc: 0.8600\n",
            "Epoch 52/200\n",
            "5/5 [==============================] - 0s 11ms/step - loss: 0.3838 - acc: 0.8467 - val_loss: 0.4279 - val_acc: 0.8600\n",
            "Epoch 53/200\n",
            "5/5 [==============================] - 0s 15ms/step - loss: 0.4191 - acc: 0.8533 - val_loss: 0.4086 - val_acc: 0.8600\n",
            "Epoch 54/200\n",
            "5/5 [==============================] - 0s 13ms/step - loss: 0.3734 - acc: 0.8733 - val_loss: 0.3985 - val_acc: 0.8400\n",
            "Epoch 55/200\n",
            "5/5 [==============================] - 0s 12ms/step - loss: 0.4040 - acc: 0.8400 - val_loss: 0.4067 - val_acc: 0.8600\n",
            "Epoch 56/200\n",
            "5/5 [==============================] - 0s 12ms/step - loss: 0.3883 - acc: 0.8867 - val_loss: 0.4112 - val_acc: 0.8400\n",
            "Epoch 57/200\n",
            "5/5 [==============================] - 0s 11ms/step - loss: 0.3529 - acc: 0.8600 - val_loss: 0.3752 - val_acc: 0.8600\n",
            "Epoch 58/200\n",
            "5/5 [==============================] - 0s 11ms/step - loss: 0.3275 - acc: 0.8933 - val_loss: 0.3744 - val_acc: 0.8800\n",
            "Epoch 59/200\n",
            "5/5 [==============================] - 0s 15ms/step - loss: 0.3417 - acc: 0.8733 - val_loss: 0.3592 - val_acc: 0.8800\n",
            "Epoch 60/200\n",
            "5/5 [==============================] - 0s 12ms/step - loss: 0.3334 - acc: 0.8600 - val_loss: 0.3642 - val_acc: 0.8800\n",
            "Epoch 61/200\n",
            "5/5 [==============================] - 0s 11ms/step - loss: 0.4235 - acc: 0.8267 - val_loss: 0.4378 - val_acc: 0.8400\n",
            "Epoch 62/200\n",
            "5/5 [==============================] - 0s 12ms/step - loss: 0.3342 - acc: 0.8867 - val_loss: 0.3663 - val_acc: 0.9000\n",
            "Epoch 63/200\n",
            "5/5 [==============================] - 0s 16ms/step - loss: 0.3765 - acc: 0.8733 - val_loss: 0.3496 - val_acc: 0.9400\n",
            "Epoch 64/200\n",
            "5/5 [==============================] - 0s 15ms/step - loss: 0.2908 - acc: 0.9267 - val_loss: 0.3580 - val_acc: 0.8600\n",
            "Epoch 65/200\n",
            "5/5 [==============================] - 0s 15ms/step - loss: 0.3195 - acc: 0.8800 - val_loss: 0.3617 - val_acc: 0.8800\n",
            "Epoch 66/200\n",
            "5/5 [==============================] - 0s 11ms/step - loss: 0.3485 - acc: 0.8800 - val_loss: 0.4236 - val_acc: 0.8600\n",
            "Epoch 67/200\n",
            "5/5 [==============================] - 0s 15ms/step - loss: 0.3541 - acc: 0.8733 - val_loss: 0.3971 - val_acc: 0.8600\n",
            "Epoch 68/200\n",
            "5/5 [==============================] - 0s 16ms/step - loss: 0.2864 - acc: 0.8933 - val_loss: 0.3809 - val_acc: 0.8400\n",
            "Epoch 69/200\n",
            "5/5 [==============================] - 0s 16ms/step - loss: 0.3186 - acc: 0.8733 - val_loss: 0.3461 - val_acc: 0.8400\n",
            "Epoch 70/200\n",
            "5/5 [==============================] - 0s 17ms/step - loss: 0.2818 - acc: 0.8867 - val_loss: 0.3283 - val_acc: 0.9000\n",
            "Epoch 71/200\n",
            "5/5 [==============================] - 0s 11ms/step - loss: 0.3101 - acc: 0.8867 - val_loss: 0.3379 - val_acc: 0.8600\n",
            "Epoch 72/200\n",
            "5/5 [==============================] - 0s 16ms/step - loss: 0.3183 - acc: 0.8667 - val_loss: 0.3204 - val_acc: 0.8600\n",
            "Epoch 73/200\n",
            "5/5 [==============================] - 0s 12ms/step - loss: 0.3137 - acc: 0.8933 - val_loss: 0.3466 - val_acc: 0.8800\n",
            "Epoch 74/200\n",
            "5/5 [==============================] - 0s 15ms/step - loss: 0.2668 - acc: 0.9067 - val_loss: 0.3440 - val_acc: 0.9000\n",
            "Epoch 75/200\n",
            "5/5 [==============================] - 0s 15ms/step - loss: 0.2529 - acc: 0.9133 - val_loss: 0.3492 - val_acc: 0.8600\n",
            "Epoch 76/200\n",
            "5/5 [==============================] - 0s 15ms/step - loss: 0.2733 - acc: 0.8933 - val_loss: 0.3331 - val_acc: 0.8600\n",
            "Epoch 77/200\n",
            "5/5 [==============================] - 0s 15ms/step - loss: 0.3018 - acc: 0.8867 - val_loss: 0.3292 - val_acc: 0.9000\n",
            "Epoch 78/200\n",
            "5/5 [==============================] - 0s 11ms/step - loss: 0.2971 - acc: 0.8733 - val_loss: 0.3006 - val_acc: 0.8800\n",
            "Epoch 79/200\n",
            "5/5 [==============================] - 0s 15ms/step - loss: 0.2813 - acc: 0.9133 - val_loss: 0.3489 - val_acc: 0.8600\n",
            "Epoch 80/200\n",
            "5/5 [==============================] - 0s 12ms/step - loss: 0.2851 - acc: 0.8733 - val_loss: 0.3234 - val_acc: 0.9000\n",
            "Epoch 81/200\n",
            "5/5 [==============================] - 0s 14ms/step - loss: 0.2934 - acc: 0.9000 - val_loss: 0.3243 - val_acc: 0.8600\n",
            "Epoch 82/200\n",
            "5/5 [==============================] - 0s 12ms/step - loss: 0.2816 - acc: 0.8933 - val_loss: 0.3000 - val_acc: 0.8600\n",
            "Epoch 83/200\n",
            "5/5 [==============================] - 0s 16ms/step - loss: 0.2885 - acc: 0.8933 - val_loss: 0.3412 - val_acc: 0.9000\n",
            "Epoch 84/200\n",
            "5/5 [==============================] - 0s 15ms/step - loss: 0.3032 - acc: 0.9067 - val_loss: 0.3094 - val_acc: 0.8600\n",
            "Epoch 85/200\n",
            "5/5 [==============================] - 0s 11ms/step - loss: 0.2753 - acc: 0.8933 - val_loss: 0.3345 - val_acc: 0.9000\n",
            "Epoch 86/200\n",
            "5/5 [==============================] - 0s 15ms/step - loss: 0.3062 - acc: 0.8933 - val_loss: 0.3476 - val_acc: 0.8400\n",
            "Epoch 87/200\n",
            "5/5 [==============================] - 0s 13ms/step - loss: 0.2747 - acc: 0.8933 - val_loss: 0.3353 - val_acc: 0.8600\n",
            "Epoch 88/200\n",
            "5/5 [==============================] - 0s 15ms/step - loss: 0.2931 - acc: 0.9133 - val_loss: 0.3102 - val_acc: 0.9000\n",
            "Epoch 89/200\n",
            "5/5 [==============================] - 0s 11ms/step - loss: 0.2341 - acc: 0.9133 - val_loss: 0.2937 - val_acc: 0.8600\n",
            "Epoch 90/200\n",
            "5/5 [==============================] - 0s 11ms/step - loss: 0.2149 - acc: 0.9333 - val_loss: 0.3009 - val_acc: 0.8800\n",
            "Epoch 91/200\n",
            "5/5 [==============================] - 0s 11ms/step - loss: 0.2414 - acc: 0.9267 - val_loss: 0.3474 - val_acc: 0.9000\n",
            "Epoch 92/200\n",
            "5/5 [==============================] - 0s 16ms/step - loss: 0.3180 - acc: 0.8800 - val_loss: 0.3093 - val_acc: 0.8600\n",
            "Epoch 93/200\n",
            "5/5 [==============================] - 0s 15ms/step - loss: 0.2944 - acc: 0.8933 - val_loss: 0.2943 - val_acc: 0.9000\n",
            "Epoch 94/200\n",
            "5/5 [==============================] - 0s 16ms/step - loss: 0.2978 - acc: 0.8933 - val_loss: 0.3184 - val_acc: 0.8800\n",
            "Epoch 95/200\n",
            "5/5 [==============================] - 0s 17ms/step - loss: 0.2688 - acc: 0.9067 - val_loss: 0.3006 - val_acc: 0.8400\n",
            "Epoch 96/200\n",
            "5/5 [==============================] - 0s 11ms/step - loss: 0.1931 - acc: 0.9467 - val_loss: 0.2867 - val_acc: 0.8800\n",
            "Epoch 97/200\n",
            "5/5 [==============================] - 0s 12ms/step - loss: 0.2704 - acc: 0.9067 - val_loss: 0.3228 - val_acc: 0.9000\n",
            "Epoch 98/200\n",
            "5/5 [==============================] - 0s 11ms/step - loss: 0.2424 - acc: 0.9267 - val_loss: 0.2781 - val_acc: 0.8800\n",
            "Epoch 99/200\n",
            "5/5 [==============================] - 0s 12ms/step - loss: 0.2510 - acc: 0.9000 - val_loss: 0.2970 - val_acc: 0.8600\n",
            "Epoch 100/200\n",
            "5/5 [==============================] - 0s 14ms/step - loss: 0.2355 - acc: 0.9200 - val_loss: 0.3224 - val_acc: 0.8800\n",
            "Epoch 101/200\n",
            "5/5 [==============================] - 0s 13ms/step - loss: 0.2531 - acc: 0.9200 - val_loss: 0.3428 - val_acc: 0.9000\n",
            "Epoch 102/200\n",
            "5/5 [==============================] - 0s 16ms/step - loss: 0.2594 - acc: 0.9267 - val_loss: 0.2499 - val_acc: 0.9200\n",
            "Epoch 103/200\n",
            "5/5 [==============================] - 0s 12ms/step - loss: 0.2240 - acc: 0.9133 - val_loss: 0.3041 - val_acc: 0.8600\n",
            "Epoch 104/200\n",
            "5/5 [==============================] - 0s 16ms/step - loss: 0.2838 - acc: 0.8867 - val_loss: 0.3442 - val_acc: 0.8800\n",
            "Epoch 105/200\n",
            "5/5 [==============================] - 0s 13ms/step - loss: 0.2748 - acc: 0.9000 - val_loss: 0.2874 - val_acc: 0.9000\n",
            "Epoch 106/200\n",
            "5/5 [==============================] - 0s 12ms/step - loss: 0.2027 - acc: 0.9133 - val_loss: 0.2580 - val_acc: 0.9000\n",
            "Epoch 107/200\n",
            "5/5 [==============================] - 0s 15ms/step - loss: 0.2165 - acc: 0.9133 - val_loss: 0.2650 - val_acc: 0.8800\n",
            "Epoch 108/200\n",
            "5/5 [==============================] - 0s 15ms/step - loss: 0.2324 - acc: 0.9333 - val_loss: 0.2967 - val_acc: 0.9200\n",
            "Epoch 109/200\n",
            "5/5 [==============================] - 0s 12ms/step - loss: 0.2364 - acc: 0.9400 - val_loss: 0.2747 - val_acc: 0.8800\n",
            "Epoch 110/200\n",
            "5/5 [==============================] - 0s 12ms/step - loss: 0.2117 - acc: 0.9000 - val_loss: 0.2551 - val_acc: 0.9000\n",
            "Epoch 111/200\n",
            "5/5 [==============================] - 0s 15ms/step - loss: 0.2177 - acc: 0.9133 - val_loss: 0.2661 - val_acc: 0.9200\n",
            "Epoch 112/200\n",
            "5/5 [==============================] - 0s 12ms/step - loss: 0.2452 - acc: 0.9000 - val_loss: 0.3025 - val_acc: 0.8800\n",
            "Epoch 113/200\n",
            "5/5 [==============================] - 0s 11ms/step - loss: 0.2504 - acc: 0.9200 - val_loss: 0.2509 - val_acc: 0.8800\n",
            "Epoch 114/200\n",
            "5/5 [==============================] - 0s 12ms/step - loss: 0.1959 - acc: 0.9400 - val_loss: 0.3722 - val_acc: 0.8800\n",
            "Epoch 115/200\n",
            "5/5 [==============================] - 0s 14ms/step - loss: 0.1717 - acc: 0.9533 - val_loss: 0.2733 - val_acc: 0.8600\n",
            "Epoch 116/200\n",
            "5/5 [==============================] - 0s 15ms/step - loss: 0.2210 - acc: 0.9200 - val_loss: 0.2408 - val_acc: 0.9200\n",
            "Epoch 117/200\n",
            "5/5 [==============================] - 0s 12ms/step - loss: 0.2053 - acc: 0.9333 - val_loss: 0.3197 - val_acc: 0.8800\n",
            "Epoch 118/200\n",
            "5/5 [==============================] - 0s 11ms/step - loss: 0.2001 - acc: 0.9467 - val_loss: 0.2533 - val_acc: 0.8800\n",
            "Epoch 119/200\n",
            "5/5 [==============================] - 0s 15ms/step - loss: 0.2457 - acc: 0.9333 - val_loss: 0.2913 - val_acc: 0.8600\n",
            "Epoch 120/200\n",
            "5/5 [==============================] - 0s 11ms/step - loss: 0.2265 - acc: 0.9400 - val_loss: 0.2788 - val_acc: 0.8600\n",
            "Epoch 121/200\n",
            "5/5 [==============================] - 0s 16ms/step - loss: 0.1885 - acc: 0.9267 - val_loss: 0.2565 - val_acc: 0.9000\n",
            "Epoch 122/200\n",
            "5/5 [==============================] - 0s 15ms/step - loss: 0.1510 - acc: 0.9667 - val_loss: 0.2328 - val_acc: 0.9000\n",
            "Epoch 123/200\n",
            "5/5 [==============================] - 0s 12ms/step - loss: 0.1928 - acc: 0.9267 - val_loss: 0.2596 - val_acc: 0.8800\n",
            "Epoch 124/200\n",
            "5/5 [==============================] - 0s 15ms/step - loss: 0.1783 - acc: 0.9400 - val_loss: 0.2731 - val_acc: 0.9200\n",
            "Epoch 125/200\n",
            "5/5 [==============================] - 0s 15ms/step - loss: 0.1744 - acc: 0.9400 - val_loss: 0.3061 - val_acc: 0.8800\n",
            "Epoch 126/200\n",
            "5/5 [==============================] - 0s 11ms/step - loss: 0.1563 - acc: 0.9600 - val_loss: 0.2118 - val_acc: 0.9200\n",
            "Epoch 127/200\n",
            "5/5 [==============================] - 0s 12ms/step - loss: 0.1852 - acc: 0.9467 - val_loss: 0.2148 - val_acc: 0.9200\n",
            "Epoch 128/200\n",
            "5/5 [==============================] - 0s 11ms/step - loss: 0.1496 - acc: 0.9467 - val_loss: 0.2223 - val_acc: 0.8800\n",
            "Epoch 129/200\n",
            "5/5 [==============================] - 0s 12ms/step - loss: 0.1205 - acc: 0.9600 - val_loss: 0.3027 - val_acc: 0.9000\n",
            "Epoch 130/200\n",
            "5/5 [==============================] - 0s 13ms/step - loss: 0.2098 - acc: 0.9333 - val_loss: 0.2700 - val_acc: 0.8600\n",
            "Epoch 131/200\n",
            "5/5 [==============================] - 0s 14ms/step - loss: 0.1634 - acc: 0.9600 - val_loss: 0.1963 - val_acc: 0.9000\n",
            "Epoch 132/200\n",
            "5/5 [==============================] - 0s 12ms/step - loss: 0.1727 - acc: 0.9400 - val_loss: 0.1811 - val_acc: 0.9400\n",
            "Epoch 133/200\n",
            "5/5 [==============================] - 0s 12ms/step - loss: 0.1951 - acc: 0.9133 - val_loss: 0.2280 - val_acc: 0.9200\n",
            "Epoch 134/200\n",
            "5/5 [==============================] - 0s 12ms/step - loss: 0.1532 - acc: 0.9533 - val_loss: 0.2500 - val_acc: 0.8800\n",
            "Epoch 135/200\n",
            "5/5 [==============================] - 0s 11ms/step - loss: 0.1774 - acc: 0.9533 - val_loss: 0.2369 - val_acc: 0.9000\n",
            "Epoch 136/200\n",
            "5/5 [==============================] - 0s 12ms/step - loss: 0.1579 - acc: 0.9467 - val_loss: 0.2202 - val_acc: 0.8800\n",
            "Epoch 137/200\n",
            "5/5 [==============================] - 0s 12ms/step - loss: 0.1666 - acc: 0.9400 - val_loss: 0.2351 - val_acc: 0.8600\n",
            "Epoch 138/200\n",
            "5/5 [==============================] - 0s 15ms/step - loss: 0.2103 - acc: 0.9067 - val_loss: 0.1946 - val_acc: 0.9200\n",
            "Epoch 139/200\n",
            "5/5 [==============================] - 0s 17ms/step - loss: 0.1637 - acc: 0.9400 - val_loss: 0.1984 - val_acc: 0.9000\n",
            "Epoch 140/200\n",
            "5/5 [==============================] - 0s 13ms/step - loss: 0.1310 - acc: 0.9600 - val_loss: 0.1957 - val_acc: 0.9000\n",
            "Epoch 141/200\n",
            "5/5 [==============================] - 0s 11ms/step - loss: 0.1650 - acc: 0.9467 - val_loss: 0.2199 - val_acc: 0.9000\n",
            "Epoch 142/200\n",
            "5/5 [==============================] - 0s 12ms/step - loss: 0.2040 - acc: 0.9400 - val_loss: 0.2430 - val_acc: 0.9000\n",
            "Epoch 143/200\n",
            "5/5 [==============================] - 0s 12ms/step - loss: 0.1533 - acc: 0.9533 - val_loss: 0.2706 - val_acc: 0.8600\n",
            "Epoch 144/200\n",
            "5/5 [==============================] - 0s 16ms/step - loss: 0.1878 - acc: 0.9267 - val_loss: 0.3280 - val_acc: 0.9000\n",
            "Epoch 145/200\n",
            "5/5 [==============================] - 0s 16ms/step - loss: 0.1569 - acc: 0.9600 - val_loss: 0.2656 - val_acc: 0.8800\n",
            "Epoch 146/200\n",
            "5/5 [==============================] - 0s 20ms/step - loss: 0.2012 - acc: 0.9267 - val_loss: 0.1979 - val_acc: 0.9000\n",
            "Epoch 147/200\n",
            "5/5 [==============================] - 0s 12ms/step - loss: 0.1683 - acc: 0.9333 - val_loss: 0.2600 - val_acc: 0.9000\n",
            "Epoch 148/200\n",
            "5/5 [==============================] - 0s 12ms/step - loss: 0.1476 - acc: 0.9467 - val_loss: 0.2813 - val_acc: 0.8600\n",
            "Epoch 149/200\n",
            "5/5 [==============================] - 0s 16ms/step - loss: 0.1173 - acc: 0.9600 - val_loss: 0.2043 - val_acc: 0.9400\n",
            "Epoch 150/200\n",
            "5/5 [==============================] - 0s 12ms/step - loss: 0.2277 - acc: 0.9200 - val_loss: 0.2171 - val_acc: 0.9200\n",
            "Epoch 151/200\n",
            "5/5 [==============================] - 0s 11ms/step - loss: 0.1934 - acc: 0.9200 - val_loss: 0.2610 - val_acc: 0.8800\n",
            "Epoch 152/200\n",
            "5/5 [==============================] - 0s 15ms/step - loss: 0.1693 - acc: 0.9200 - val_loss: 0.1818 - val_acc: 0.9400\n",
            "Epoch 153/200\n",
            "5/5 [==============================] - 0s 12ms/step - loss: 0.1344 - acc: 0.9533 - val_loss: 0.2826 - val_acc: 0.8600\n",
            "Epoch 154/200\n",
            "5/5 [==============================] - 0s 15ms/step - loss: 0.1721 - acc: 0.9467 - val_loss: 0.3548 - val_acc: 0.8200\n",
            "Epoch 155/200\n",
            "5/5 [==============================] - 0s 15ms/step - loss: 0.2647 - acc: 0.9000 - val_loss: 0.2709 - val_acc: 0.8600\n",
            "Epoch 156/200\n",
            "5/5 [==============================] - 0s 12ms/step - loss: 0.2739 - acc: 0.8533 - val_loss: 0.3200 - val_acc: 0.9000\n",
            "Epoch 157/200\n",
            "5/5 [==============================] - 0s 12ms/step - loss: 0.1932 - acc: 0.9400 - val_loss: 0.2298 - val_acc: 0.9000\n",
            "Epoch 158/200\n",
            "5/5 [==============================] - 0s 11ms/step - loss: 0.2382 - acc: 0.8933 - val_loss: 0.2299 - val_acc: 0.8800\n",
            "Epoch 159/200\n",
            "5/5 [==============================] - 0s 17ms/step - loss: 0.2241 - acc: 0.9200 - val_loss: 0.2366 - val_acc: 0.9200\n",
            "Epoch 160/200\n",
            "5/5 [==============================] - 0s 16ms/step - loss: 0.2180 - acc: 0.9067 - val_loss: 0.1998 - val_acc: 0.9400\n",
            "Epoch 161/200\n",
            "5/5 [==============================] - 0s 18ms/step - loss: 0.1520 - acc: 0.9600 - val_loss: 0.1808 - val_acc: 0.9200\n",
            "Epoch 162/200\n",
            "5/5 [==============================] - 0s 16ms/step - loss: 0.1707 - acc: 0.9200 - val_loss: 0.1868 - val_acc: 0.9400\n",
            "Epoch 163/200\n",
            "5/5 [==============================] - 0s 13ms/step - loss: 0.1259 - acc: 0.9533 - val_loss: 0.2298 - val_acc: 0.9000\n",
            "Epoch 164/200\n",
            "5/5 [==============================] - 0s 13ms/step - loss: 0.1669 - acc: 0.9400 - val_loss: 0.1764 - val_acc: 0.9000\n",
            "Epoch 165/200\n",
            "5/5 [==============================] - 0s 12ms/step - loss: 0.1757 - acc: 0.9333 - val_loss: 0.2108 - val_acc: 0.9400\n",
            "Epoch 166/200\n",
            "5/5 [==============================] - 0s 15ms/step - loss: 0.2610 - acc: 0.8933 - val_loss: 0.2468 - val_acc: 0.9000\n",
            "Epoch 167/200\n",
            "5/5 [==============================] - 0s 11ms/step - loss: 0.1919 - acc: 0.9333 - val_loss: 0.2392 - val_acc: 0.9000\n",
            "Epoch 168/200\n",
            "5/5 [==============================] - 0s 12ms/step - loss: 0.1638 - acc: 0.9733 - val_loss: 0.2221 - val_acc: 0.9200\n",
            "Epoch 169/200\n",
            "5/5 [==============================] - 0s 15ms/step - loss: 0.1120 - acc: 0.9600 - val_loss: 0.2039 - val_acc: 0.9200\n",
            "Epoch 170/200\n",
            "5/5 [==============================] - 0s 12ms/step - loss: 0.1477 - acc: 0.9467 - val_loss: 0.1874 - val_acc: 0.9400\n",
            "Epoch 171/200\n",
            "5/5 [==============================] - 0s 15ms/step - loss: 0.1711 - acc: 0.9267 - val_loss: 0.2199 - val_acc: 0.9000\n",
            "Epoch 172/200\n",
            "5/5 [==============================] - 0s 16ms/step - loss: 0.1372 - acc: 0.9533 - val_loss: 0.2700 - val_acc: 0.9000\n",
            "Epoch 173/200\n",
            "5/5 [==============================] - 0s 13ms/step - loss: 0.1785 - acc: 0.9133 - val_loss: 0.1701 - val_acc: 0.9400\n",
            "Epoch 174/200\n",
            "5/5 [==============================] - 0s 15ms/step - loss: 0.1401 - acc: 0.9667 - val_loss: 0.1903 - val_acc: 0.9200\n",
            "Epoch 175/200\n",
            "5/5 [==============================] - 0s 15ms/step - loss: 0.1736 - acc: 0.9600 - val_loss: 0.2050 - val_acc: 0.9200\n",
            "Epoch 176/200\n",
            "5/5 [==============================] - 0s 12ms/step - loss: 0.1400 - acc: 0.9533 - val_loss: 0.1462 - val_acc: 0.9200\n",
            "Epoch 177/200\n",
            "5/5 [==============================] - 0s 12ms/step - loss: 0.1447 - acc: 0.9467 - val_loss: 0.2158 - val_acc: 0.9000\n",
            "Epoch 178/200\n",
            "5/5 [==============================] - 0s 12ms/step - loss: 0.1614 - acc: 0.9333 - val_loss: 0.1964 - val_acc: 0.9200\n",
            "Epoch 179/200\n",
            "5/5 [==============================] - 0s 16ms/step - loss: 0.1825 - acc: 0.9333 - val_loss: 0.1941 - val_acc: 0.9200\n",
            "Epoch 180/200\n",
            "5/5 [==============================] - 0s 16ms/step - loss: 0.1011 - acc: 0.9733 - val_loss: 0.2078 - val_acc: 0.9200\n",
            "Epoch 181/200\n",
            "5/5 [==============================] - 0s 14ms/step - loss: 0.1333 - acc: 0.9467 - val_loss: 0.1939 - val_acc: 0.8800\n",
            "Epoch 182/200\n",
            "5/5 [==============================] - 0s 16ms/step - loss: 0.0996 - acc: 0.9667 - val_loss: 0.2237 - val_acc: 0.9000\n",
            "Epoch 183/200\n",
            "5/5 [==============================] - 0s 16ms/step - loss: 0.1316 - acc: 0.9400 - val_loss: 0.2219 - val_acc: 0.9200\n",
            "Epoch 184/200\n",
            "5/5 [==============================] - 0s 12ms/step - loss: 0.1249 - acc: 0.9600 - val_loss: 0.2094 - val_acc: 0.9000\n",
            "Epoch 185/200\n",
            "5/5 [==============================] - 0s 13ms/step - loss: 0.1522 - acc: 0.9467 - val_loss: 0.1977 - val_acc: 0.9400\n",
            "Epoch 186/200\n",
            "5/5 [==============================] - 0s 12ms/step - loss: 0.1108 - acc: 0.9733 - val_loss: 0.3198 - val_acc: 0.8800\n",
            "Epoch 187/200\n",
            "5/5 [==============================] - 0s 12ms/step - loss: 0.1592 - acc: 0.9467 - val_loss: 0.2505 - val_acc: 0.9000\n",
            "Epoch 188/200\n",
            "5/5 [==============================] - 0s 18ms/step - loss: 0.1145 - acc: 0.9467 - val_loss: 0.2751 - val_acc: 0.9000\n",
            "Epoch 189/200\n",
            "5/5 [==============================] - 0s 15ms/step - loss: 0.1197 - acc: 0.9667 - val_loss: 0.2327 - val_acc: 0.9000\n",
            "Epoch 190/200\n",
            "5/5 [==============================] - 0s 19ms/step - loss: 0.1128 - acc: 0.9533 - val_loss: 0.2186 - val_acc: 0.8600\n",
            "Epoch 191/200\n",
            "5/5 [==============================] - 0s 15ms/step - loss: 0.1141 - acc: 0.9600 - val_loss: 0.2623 - val_acc: 0.9000\n",
            "Epoch 192/200\n",
            "5/5 [==============================] - 0s 17ms/step - loss: 0.1154 - acc: 0.9600 - val_loss: 0.2793 - val_acc: 0.9000\n",
            "Epoch 193/200\n",
            "5/5 [==============================] - 0s 21ms/step - loss: 0.1349 - acc: 0.9467 - val_loss: 0.1864 - val_acc: 0.9200\n",
            "Epoch 194/200\n",
            "5/5 [==============================] - 0s 20ms/step - loss: 0.1406 - acc: 0.9467 - val_loss: 0.1317 - val_acc: 0.9600\n",
            "Epoch 195/200\n",
            "5/5 [==============================] - 0s 15ms/step - loss: 0.1560 - acc: 0.9533 - val_loss: 0.2299 - val_acc: 0.9400\n",
            "Epoch 196/200\n",
            "5/5 [==============================] - 0s 22ms/step - loss: 0.1378 - acc: 0.9533 - val_loss: 0.2499 - val_acc: 0.9200\n",
            "Epoch 197/200\n",
            "5/5 [==============================] - 0s 20ms/step - loss: 0.1009 - acc: 0.9733 - val_loss: 0.3037 - val_acc: 0.8800\n",
            "Epoch 198/200\n",
            "5/5 [==============================] - 0s 20ms/step - loss: 0.1679 - acc: 0.9400 - val_loss: 0.2420 - val_acc: 0.9000\n",
            "Epoch 199/200\n",
            "5/5 [==============================] - 0s 18ms/step - loss: 0.1216 - acc: 0.9533 - val_loss: 0.1657 - val_acc: 0.9400\n",
            "Epoch 200/200\n",
            "5/5 [==============================] - 0s 17ms/step - loss: 0.0932 - acc: 0.9667 - val_loss: 0.1507 - val_acc: 0.9400\n"
          ]
        }
      ]
    },
    {
      "cell_type": "code",
      "metadata": {
        "colab": {
          "base_uri": "https://localhost:8080/",
          "height": 887
        },
        "id": "qJnFOLndpoN9",
        "outputId": "4708af06-6eaf-43e3-a7ed-9c646f36fa76"
      },
      "source": [
        "### Plot training and validation accuracy and loss over time\n",
        "\n",
        "# Extract accuracy and loss values (in list form) from the history\n",
        "acc = history.history['acc']\n",
        "val_acc = history.history['val_acc']\n",
        "loss = history.history['loss']\n",
        "val_loss = history.history['val_loss']\n",
        "\n",
        "# Create a list of epoch numbers\n",
        "epochs = range(1, len(acc) + 1)\n",
        "\n",
        "# Plot training and validation loss values over time\n",
        "plt.figure()\n",
        "plt.plot(epochs, loss, color='blue', marker='.', label='Training loss')\n",
        "plt.plot(epochs, val_loss, color='orange', marker='.', label='Validation loss')\n",
        "plt.title('Training and validation loss')\n",
        "plt.legend()\n",
        "\n",
        "# Plot training and validation accuracies over time\n",
        "plt.figure()\n",
        "plt.plot(epochs, acc, color='blue', marker='.', label='Training acc')\n",
        "plt.plot(epochs, val_acc, color='orange', marker='.', label='Validation acc')\n",
        "plt.title('Training and validation accuracy')\n",
        "plt.legend()\n",
        "plt.show()"
      ],
      "execution_count": 16,
      "outputs": [
        {
          "output_type": "display_data",
          "data": {
            "text/plain": [
              "<Figure size 640x480 with 1 Axes>"
            ],
            "image/png": "[encoded data removed]"
          },
          "metadata": {}
        },
        {
          "output_type": "display_data",
          "data": {
            "text/plain": [
              "<Figure size 640x480 with 1 Axes>"
            ],
            "image/png": "[encoded data removed]"
          },
          "metadata": {}
        }
      ]
    },
    {
      "cell_type": "code",
      "metadata": {
        "colab": {
          "base_uri": "https://localhost:8080/"
        },
        "id": "kgmX9gfJpq-L",
        "outputId": "679db4c8-0f19-4568-fbaf-1e5c12dc96c7"
      },
      "source": [
        "### Try predicting label with one validation sample (inference)\n",
        "\n",
        "# Change this to try a different sample from the test set\n",
        "idx = 0\n",
        "\n",
        "# Make sample 2D array instead of 1D vector (this is what the Keras model expects as input)\n",
        "x = np.expand_dims(X_val[idx], 0)\n",
        "\n",
        "# Make prediction using trained model\n",
        "y_pred = model.predict(x)\n",
        "\n",
        "# Find index of highest score in output\n",
        "predicted_label = np.argmax(y_pred)\n",
        "actual_label = np.argmax(Y_val[idx])\n",
        "\n",
        "# Display model output, predicted label, actual label\n",
        "print(\"Model output:\", y_pred)\n",
        "print(\"Predicted label:\", predicted_label, \"-\", labels[predicted_label])\n",
        "print(\"Actual label:\", actual_label, \"-\", labels[actual_label])"
      ],
      "execution_count": 17,
      "outputs": [
        {
          "output_type": "stream",
          "name": "stdout",
          "text": [
            "1/1 [==============================] - 0s 98ms/step\n",
            "Model output: [[0.00142786 0.8780059  0.00938553 0.06604913 0.04513158]]\n",
            "Predicted label: 1 - capacitor\n",
            "Actual label: 1 - capacitor\n"
          ]
        }
      ]
    },
    {
      "cell_type": "code",
      "metadata": {
        "colab": {
          "base_uri": "https://localhost:8080/"
        },
        "id": "0Lo3KWpjptJk",
        "outputId": "065a44c0-83ca-4553-870f-b21c4eae4b40"
      },
      "source": [
        "### Create confusion matrix from validation set\n",
        "\n",
        "# Find predictions from all validation samples\n",
        "Y_pred = model.predict(X_val)\n",
        "print(\"Validation output shape:\", Y_pred.shape)\n",
        "\n",
        "# Convert actual and predicted validation one-hot encoding to numerical labels\n",
        "y_val = np.argmax(Y_val, axis=1)\n",
        "y_pred = np.argmax(Y_pred, axis=1)\n",
        "\n",
        "# Print some values from actual and predicted validation sets (first 50 samples)\n",
        "print(\"Actual validation labels:\\t\", y_val[:50])\n",
        "print(\"Predicted validation labels:\\t\", y_pred[:50])\n",
        "\n",
        "# Compute confusion matrix (note: we need to transpose SKLearn matrix to make it match Edge Impulse)\n",
        "cm = confusion_matrix(y_val, y_pred)\n",
        "cm = np.transpose(cm)\n",
        "\n",
        "# Print confusion matrix\n",
        "print()\n",
        "print(\" ---> Predicted labels\")\n",
        "print(\"|\")\n",
        "print(\"v Actual labels\")\n",
        "print(\"\\t\\t\\t\" + ' '.join(\"{!s:6}\".format('(' + str(i) + ')') for i in range(num_classes)))\n",
        "for row in range(num_classes):\n",
        "  print(\"{:>12} ({}):  [{}]\".format(labels[row], row, ' '.join(\"{:6}\".format(i) for i in cm[row])))"
      ],
      "execution_count": 18,
      "outputs": [
        {
          "output_type": "stream",
          "name": "stdout",
          "text": [
            "2/2 [==============================] - 0s 6ms/step\n",
            "Validation output shape: (50, 5)\n",
            "Actual validation labels:\t [1 1 4 1 2 3 0 3 0 2 3 1 1 1 0 2 0 2 0 2 4 4 0 1 4 0 2 0 4 3 3 2 4 2 0 0 3\n",
            " 2 2 4 4 0 2 1 4 3 2 1 0 0]\n",
            "Predicted validation labels:\t [1 1 4 1 2 3 0 3 0 2 3 1 1 1 0 2 0 2 0 2 4 1 0 1 4 0 3 0 4 3 3 2 4 2 0 0 3\n",
            " 4 2 4 4 0 2 1 4 3 2 1 0 0]\n",
            "\n",
            " ---> Predicted labels\n",
            "|\n",
            "v Actual labels\n",
            "\t\t\t(0)    (1)    (2)    (3)    (4)   \n",
            "  background (0):  [    13      0      0      0      0]\n",
            "   capacitor (1):  [     0      9      0      0      1]\n",
            "       diode (2):  [     0      0     10      0      0]\n",
            "         led (3):  [     0      0      1      7      0]\n",
            "    resistor (4):  [     0      0      1      0      8]\n"
          ]
        }
      ]
    },
    {
      "cell_type": "code",
      "metadata": {
        "colab": {
          "base_uri": "https://localhost:8080/"
        },
        "id": "hgZXa_y2qorZ",
        "outputId": "5dc3c325-1e9b-4993-e017-97f97d8a9df3"
      },
      "source": [
        "### Evaluate model on validation set\n",
        "score = model.evaluate(X_val, Y_val)\n",
        "print(\"Validation loss:\", score[0])\n",
        "print(\"Validation accuracy:\", score[1])"
      ],
      "execution_count": 19,
      "outputs": [
        {
          "output_type": "stream",
          "name": "stdout",
          "text": [
            "2/2 [==============================] - 0s 10ms/step - loss: 0.1507 - acc: 0.9400\n",
            "Validation loss: 0.15066558122634888\n",
            "Validation accuracy: 0.9399999976158142\n"
          ]
        }
      ]
    },
    {
      "cell_type": "code",
      "metadata": {
        "colab": {
          "base_uri": "https://localhost:8080/"
        },
        "id": "m2lvFg0RVxFr",
        "outputId": "511f8a26-b471-4127-9979-36ecb3e5226f"
      },
      "source": [
        "### Evaluate model on entire test set\n",
        "score = model.evaluate(X_test, Y_test)\n",
        "print(\"Test loss:\", score[0])\n",
        "print(\"Test accuracy:\", score[1])"
      ],
      "execution_count": 20,
      "outputs": [
        {
          "output_type": "stream",
          "name": "stdout",
          "text": [
            "2/2 [==============================] - 0s 7ms/step - loss: 0.0854 - acc: 0.9600\n",
            "Test loss: 0.08537665009498596\n",
            "Test accuracy: 0.9599999785423279\n"
          ]
        }
      ]
    }
  ]
}