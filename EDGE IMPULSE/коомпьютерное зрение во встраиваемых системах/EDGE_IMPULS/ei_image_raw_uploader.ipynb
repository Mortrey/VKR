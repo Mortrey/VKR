{
  "nbformat": 4,
  "nbformat_minor": 0,
  "metadata": {
    "colab": {
      "provenance": []
    },
    "kernelspec": {
      "name": "python3",
      "display_name": "Python 3"
    },
    "language_info": {
      "name": "python"
    }
  },
  "cells": [
    {
      "cell_type": "markdown",
      "metadata": {
        "id": "PC2XM9ueyLhu"
      },
      "source": [
        "# Image Classification: Raw Uploader\n",
        "\n",
        "[![Open In Colab <](https://colab.research.google.com/assets/colab-badge.svg)](https://colab.research.google.com/github/ShawnHymel/computer-vision-with-embedded-machine-learning/blob/master/1.3.1%20-%20Using%20Colab%20to%20Curate%20and%20Upload%20a%20Dataset/ei_image_raw_uploader.ipynb)\n",
        "\n",
        "Run this notebook to convert images to a single row of raw, normalized values (between 0 and 1) and upload them to Edge Impulse as raw samples. Note that pixel values will be normalized to be between 0 and 1.\n",
        "\n",
        "Create a folder named \"dataset\" in the /content directory and upload your images there. The images should be divided into their respective classes, where each class has its own folder with the name of the class. For example:\n",
        "\n",
        "<pre>\n",
        "/content\n",
        "    |- dataset\n",
        "        |- background\n",
        "        |- capacitor\n",
        "        |- diode\n",
        "        |- led\n",
        "        |- resistor\n",
        "</pre>\n",
        "\n",
        "Author: EdgeImpulse, Inc.<br>\n",
        "Date: June 6, 2021<br>\n",
        "License: [Apache-2.0](apache.org/licenses/LICENSE-2.0)<br>"
      ]
    },
    {
      "cell_type": "code",
      "metadata": {
        "id": "jhHG2__GyJjs"
      },
      "source": [
        "import numpy as np\n",
        "import matplotlib.pyplot as plt\n",
        "\n",
        "import random, os, PIL, json, time, hmac, hashlib, requests, threading, queue\n",
        "\n",
        "from skimage.transform import resize                      # Used to scale/resize image arrays"
      ],
      "execution_count": 1,
      "outputs": []
    },
    {
      "cell_type": "code",
      "metadata": {
        "id": "wu2l_Lm0yhtJ"
      },
      "source": [
        "### Settings\n",
        "\n",
        "# Edge Impulse > your_project > Dashboard > Keys\n",
        "EI_API_KEY = \"ei_5f0582bea4ed3f0500ede305f747d688cee8a59906b9b8350d563f34dd64c59f\"\n",
        "EI_HMAC_KEY = \"7e018f439cadb0c3d410b06713b21b41\"\n",
        "\n",
        "# Number of threads to run to upload data to Edge Impulse\n",
        "NUM_THREADS = 20\n",
        "\n",
        "# Location of dataset\n",
        "DATASET_PATH = \"/content/dataset\"\n",
        "\n",
        "# Desired resolution of images\n",
        "TARGET_WIDTH = 28\n",
        "TARGET_HEIGHT = 28\n",
        "\n",
        "# Invert image (dark backgrounds can sometimes improve accuracy)\n",
        "INVERT = False\n",
        "\n",
        "# Set aside 20% for test set (Edge Impulse automatically extracts validation set during training)\n",
        "TEST_RATIO = 0.2\n",
        "\n",
        "# You are welcome to change the seed to try a different validation set split\n",
        "random.seed(42)"
      ],
      "execution_count": 2,
      "outputs": []
    },
    {
      "cell_type": "markdown",
      "metadata": {
        "id": "cL3YlAXTrZS-"
      },
      "source": [
        "## Curate Image Dataset\n",
        "\n",
        "The following cells perform the following:\n",
        " * Load images from filesystem as grayscale values\n",
        " * Set aside some portion of the dataset as test data\n",
        " * Resize images\n",
        " * Normalize pixel value from [0, 255] to [0.0, 1.0]\n",
        " * Flatten images to 1D array"
      ]
    },
    {
      "cell_type": "code",
      "metadata": {
        "colab": {
          "base_uri": "https://localhost:8080/"
        },
        "id": "FXcJLxcv0yOT",
        "outputId": "aeeb12b8-b9b9-4a11-fbc1-5cbf93d42004"
      },
      "source": [
        "### Load images as Numpy arrays\n",
        "\n",
        "# We want to record the labels and assign a ground truth label as a number to each sample\n",
        "labels = []\n",
        "y_all = []    # Lowercase 'y' - 1D vector of the ground truth labels (n)\n",
        "X_all = []    # Uppercase 'X' - 3D array of all image samples (n x width x height)\n",
        "\n",
        "# Find the directories in the dataset folder (skip the Jupyter Notebook checkpoints hidden folder)\n",
        "for label in os.listdir(DATASET_PATH):\n",
        "  class_dir = os.path.join(DATASET_PATH, label)\n",
        "  if os.path.isdir(class_dir) and label != \".ipynb_checkpoints\":\n",
        "\n",
        "    # Add the name of the folder to our labels list\n",
        "    labels.append(label)\n",
        "\n",
        "    # Go through each image in the folder\n",
        "    for i, file in enumerate(os.listdir(class_dir)):\n",
        "\n",
        "      # Skip the Jupyter Notebook checkpoints folder that sometimes gets added\n",
        "      if file != \".ipynb_checkpoints\":\n",
        "\n",
        "        # Open image and convert to grayscale\n",
        "        file_path = os.path.join(class_dir, file)\n",
        "        img = PIL.Image.open(file_path).convert('L')\n",
        "\n",
        "        # Convert the image to a Numpy array, optionally invern, and append to X\n",
        "        img_array = np.asarray(img)\n",
        "        if INVERT:\n",
        "          img_array = 255 - img_array\n",
        "        X_all.append(img_array)\n",
        "\n",
        "        # Add label to the y array\n",
        "        y_all.append(label)\n",
        "\n",
        "    # Show how many images we loaded\n",
        "    print(\"Added\", str(i + 1), \"images from\", label)\n",
        "\n",
        "# Calculate total number of samples\n",
        "num_samples = len(X_all)\n",
        "\n",
        "# Sort the labels list by alphabetical order\n",
        "labels = sorted(labels)\n",
        "\n",
        "# Print out labels and number of samples\n",
        "print(labels)\n",
        "print(\"Number of samples:\", num_samples)"
      ],
      "execution_count": 3,
      "outputs": [
        {
          "output_type": "stream",
          "name": "stdout",
          "text": [
            "Added 50 images from diode\n",
            "Added 51 images from background\n",
            "Added 50 images from capacitor\n",
            "Added 50 images from resistor\n",
            "Added 50 images from led\n",
            "['background', 'capacitor', 'diode', 'led', 'resistor']\n",
            "Number of samples: 250\n"
          ]
        }
      ]
    },
    {
      "cell_type": "code",
      "metadata": {
        "colab": {
          "base_uri": "https://localhost:8080/"
        },
        "id": "oJrS0Oz31NkI",
        "outputId": "cea1ac4c-eed9-41e3-c81b-8d02f55aa75d"
      },
      "source": [
        "### Shuffle samples and labels together, divide into test and training sets\n",
        "\n",
        "# Shuffle samples and associated labels together\n",
        "X_y = list(zip(X_all, y_all))\n",
        "random.shuffle(X_y)\n",
        "X_all, y_all = zip(*X_y)\n",
        "\n",
        "# Calculate number of validation and test samples to put aside (round down)\n",
        "num_samples_test = int(TEST_RATIO * num_samples)\n",
        "\n",
        "# The first `num_samples_test` samples of the shuffled list becomes the test set\n",
        "X_test = X_all[:num_samples_test]\n",
        "y_test = y_all[:num_samples_test]\n",
        "\n",
        "# The remaining samples become the training set\n",
        "X_train = X_all[num_samples_test:]\n",
        "y_train = y_all[num_samples_test:]\n",
        "\n",
        "# Remember the number of samples in the test set\n",
        "num_samples_train = len(X_train)\n",
        "\n",
        "# Print out the number of test and training samples\n",
        "print(\"Number of test samples:\", num_samples_test)\n",
        "print(\"Number of training samples:\", num_samples_train)"
      ],
      "execution_count": 4,
      "outputs": [
        {
          "output_type": "stream",
          "name": "stdout",
          "text": [
            "Number of test samples: 50\n",
            "Number of training samples: 200\n"
          ]
        }
      ]
    },
    {
      "cell_type": "code",
      "metadata": {
        "colab": {
          "base_uri": "https://localhost:8080/",
          "height": 597
        },
        "id": "6FwDtw_DazYG",
        "outputId": "b4a3907b-de0c-41e6-c76e-d93403f42833"
      },
      "source": [
        "### View one of the training samples\n",
        "\n",
        "# Chose which sample you want to view\n",
        "idx = 0\n",
        "\n",
        "# Print out label (numbe and string) and part of the array\n",
        "print(\"Label: \" + y_train[idx])\n",
        "print(X_train[idx])\n",
        "\n",
        "# Display image from array\n",
        "plt.imshow(X_train[idx], cmap='gray', vmin=0, vmax=255)"
      ],
      "execution_count": 5,
      "outputs": [
        {
          "output_type": "stream",
          "name": "stdout",
          "text": [
            "Label: capacitor\n",
            "[[149 149 149 ... 152 152 152]\n",
            " [152 152 152 ... 152 154 154]\n",
            " [152 152 152 ... 154 154 152]\n",
            " ...\n",
            " [132 132 138 ... 157 157 157]\n",
            " [132 132 138 ... 157 157 157]\n",
            " [132 132 132 ... 157 157 157]]\n"
          ]
        },
        {
          "output_type": "execute_result",
          "data": {
            "text/plain": [
              "<matplotlib.image.AxesImage at 0x7b786eaeec80>"
            ]
          },
          "metadata": {},
          "execution_count": 5
        },
        {
          "output_type": "display_data",
          "data": {
            "text/plain": [
              "<Figure size 640x480 with 1 Axes>"
            ],
            "image/png": "[encoded data removed]"
          },
          "metadata": {}
        }
      ]
    },
    {
      "cell_type": "code",
      "metadata": {
        "id": "7eVgRZnHc6_y"
      },
      "source": [
        "### Function to resize list of images\n",
        "def resize_images(images, width, height, anti_aliasing=True):\n",
        "  \"\"\"\n",
        "  Prove a list of Numpy arrays (in images parameter) to have them all resized to desired height and\n",
        "  width. Returns the list of newly resized image arrays.\n",
        "\n",
        "  NOTE: skimage resize returns *normalized* image arrays (values between 0..1)\n",
        "  \"\"\"\n",
        "  X_out = []\n",
        "  for i, img in enumerate(images):\n",
        "    X_out.append(resize(img, (height, width), anti_aliasing=anti_aliasing))\n",
        "  return X_out"
      ],
      "execution_count": 6,
      "outputs": []
    },
    {
      "cell_type": "code",
      "metadata": {
        "id": "YNpuq5Lxa9Ck"
      },
      "source": [
        "### Scale/crop images (Note: also normalizes data to 0..1)\n",
        "\n",
        "# Resize (scale) all images in the training set\n",
        "X_train = resize_images(X_train, TARGET_WIDTH, TARGET_HEIGHT)\n",
        "\n",
        "# Resize (scale) all images in the test set\n",
        "X_test = resize_images(X_test, TARGET_WIDTH, TARGET_HEIGHT)"
      ],
      "execution_count": 7,
      "outputs": []
    },
    {
      "cell_type": "code",
      "metadata": {
        "colab": {
          "base_uri": "https://localhost:8080/",
          "height": 558
        },
        "id": "tL9W4Pw1cVon",
        "outputId": "708501cb-c70c-4ca2-9618-34073247e71a"
      },
      "source": [
        "### View training sample again (after they all have been scaled)\n",
        "\n",
        "# Chose which sample you want to view\n",
        "idx = 0\n",
        "\n",
        "# Print out label (numbe and string) and part of the array\n",
        "print(\"Label: \" + y_train[idx])\n",
        "print(\"First row:\", X_train[idx][:1,:])\n",
        "\n",
        "# Display image from array (note that images have been normalized)\n",
        "plt.imshow(X_train[idx], cmap='gray', vmin=0, vmax=1)"
      ],
      "execution_count": 8,
      "outputs": [
        {
          "output_type": "stream",
          "name": "stdout",
          "text": [
            "Label: capacitor\n",
            "First row: [[0.5942056  0.58891553 0.58951201 0.60127683 0.6039196  0.60392246\n",
            "  0.60464627 0.61156964 0.61005622 0.60615826 0.60439704 0.61252468\n",
            "  0.6152528  0.61481678 0.61568711 0.61568938 0.61568614 0.61563889\n",
            "  0.61347019 0.60635112 0.60384401 0.60313021 0.60416547 0.60378062\n",
            "  0.60262732 0.59799163 0.60044844 0.60078691]]\n"
          ]
        },
        {
          "output_type": "execute_result",
          "data": {
            "text/plain": [
              "<matplotlib.image.AxesImage at 0x7b786e5da4a0>"
            ]
          },
          "metadata": {},
          "execution_count": 8
        },
        {
          "output_type": "display_data",
          "data": {
            "text/plain": [
              "<Figure size 640x480 with 1 Axes>"
            ],
            "image/png": "[encoded data removed]"
          },
          "metadata": {}
        }
      ]
    },
    {
      "cell_type": "code",
      "metadata": {
        "colab": {
          "base_uri": "https://localhost:8080/"
        },
        "id": "N5atQn3JsHQo",
        "outputId": "26c18ef5-91be-4e2f-b66c-6fd10d140c65"
      },
      "source": [
        "### Convert list of samples into Numpy arrays\n",
        "\n",
        "# Convert sets\n",
        "X_train = np.asarray(X_train)\n",
        "X_test = np.asarray(X_test)\n",
        "\n",
        "# Print out the new Numpy array shapes (always a good idea to check the shapes!)\n",
        "print(\"Training X:\", X_train.shape)\n",
        "print(\"Test X:\", X_test.shape)"
      ],
      "execution_count": 9,
      "outputs": [
        {
          "output_type": "stream",
          "name": "stdout",
          "text": [
            "Training X: (200, 28, 28)\n",
            "Test X: (50, 28, 28)\n"
          ]
        }
      ]
    },
    {
      "cell_type": "code",
      "metadata": {
        "colab": {
          "base_uri": "https://localhost:8080/"
        },
        "id": "u0H4V7jGrQdk",
        "outputId": "a93d1bee-4a2a-4711-cd67-583e8bb93bc5"
      },
      "source": [
        "### Flatten each image to a 1D vector (DNN requires 1D input)\n",
        "\n",
        "# Compute length of 1D array that we will flatten each image to\n",
        "len_vector = TARGET_WIDTH * TARGET_WIDTH\n",
        "\n",
        "# Flatten matricies to vectors\n",
        "X_train = X_train.reshape(num_samples_train, len_vector)\n",
        "X_test = X_test.reshape(num_samples_test, len_vector)\n",
        "\n",
        "# Print out the new Numpy array shapes (always a good idea to check the shapes!)\n",
        "print(\"Training X:\", X_train.shape)\n",
        "print(\"Test X:\", X_test.shape)"
      ],
      "execution_count": 10,
      "outputs": [
        {
          "output_type": "stream",
          "name": "stdout",
          "text": [
            "Training X: (200, 784)\n",
            "Test X: (50, 784)\n"
          ]
        }
      ]
    },
    {
      "cell_type": "markdown",
      "metadata": {
        "id": "0JPj36oxn_cq"
      },
      "source": [
        "## Helper Functions\n",
        "\n",
        "The following functions are used to assist in task of uploading samples to your Edge Impulse project."
      ]
    },
    {
      "cell_type": "code",
      "metadata": {
        "id": "D32TWqoeJ3YI"
      },
      "source": [
        "def create_json_wrapper():\n",
        "  \"\"\"\n",
        "  Construct initial JSON wrapper as a template\n",
        "  \"\"\"\n",
        "\n",
        "  # Start with all zeros. Hs256 gives 32 bytes and we encode in hex. So, we need 64 characters here.\n",
        "  empty_signature = ''.join(['0'] * 64)\n",
        "\n",
        "  # Create JSON wrapper for data\n",
        "  data = {\n",
        "      \"protected\": {\n",
        "          \"ver\": \"v1\",\n",
        "          \"alg\": \"HS256\",\n",
        "          \"iat\": time.time()                  # Epoch time, seconds since 1970\n",
        "      },\n",
        "      \"signature\": empty_signature,\n",
        "      \"payload\": {\n",
        "          \"device_type\": \"pre-made\",          # Pre-made dataset (not collected)\n",
        "          \"interval_ms\": 1,                   # Pretend it's interval of 1 ms\n",
        "          \"sensors\": [\n",
        "              { \"name\": \"img\", \"units\": \"B\" } # Unitless (\"Byte\" data)\n",
        "          ],\n",
        "          \"values\": []\n",
        "      }\n",
        "  }\n",
        "\n",
        "  return data"
      ],
      "execution_count": 11,
      "outputs": []
    },
    {
      "cell_type": "code",
      "metadata": {
        "id": "af8z5kdQoEMX"
      },
      "source": [
        "def send_sample(data, label, test_set=False):\n",
        "  \"\"\"\n",
        "  Send raw data sample to Edge Impulse project, return HTTP status code\n",
        "  \"\"\"\n",
        "\n",
        "  # Encode message in JSON format\n",
        "  encoded = json.dumps(data)\n",
        "\n",
        "  # Sign message\n",
        "  signature = hmac.new(bytes(EI_HMAC_KEY, 'utf-8'),\n",
        "                      msg = encoded.encode('utf-8'),\n",
        "                      digestmod = hashlib.sha256).hexdigest()\n",
        "\n",
        "  # Set the signature in the message and encode data again to JSON format\n",
        "  data['signature'] = signature\n",
        "  encoded = json.dumps(data)\n",
        "\n",
        "  # Construct URL based on dataset being sent\n",
        "  if test_set:\n",
        "    url = 'https://ingestion.edgeimpulse.com/api/testing/data'\n",
        "  else:\n",
        "    url = 'https://ingestion.edgeimpulse.com/api/training/data'\n",
        "\n",
        "  # Upload the data to project\n",
        "  res = requests.post(url=url,\n",
        "                      data=encoded,\n",
        "                      headers={\n",
        "                          'Content-Type': 'application/json',\n",
        "                          'x-file-name': str(label),\n",
        "                          'x-api-key': EI_API_KEY\n",
        "                      })\n",
        "\n",
        "  return res"
      ],
      "execution_count": 12,
      "outputs": []
    },
    {
      "cell_type": "code",
      "metadata": {
        "id": "uCnwArbaoIym"
      },
      "source": [
        "def upload_sample(len_vector, is_test_set):\n",
        "  \"\"\"\n",
        "  Pull sample and label from queue and send to Edge Impulse server. To be called within a thread.\n",
        "  \"\"\"\n",
        "\n",
        "  global q\n",
        "\n",
        "  while not q.empty():\n",
        "\n",
        "    # Start with empty JSON wrapper\n",
        "    data = create_json_wrapper()\n",
        "\n",
        "    # Fill up values field (we need to convert to float to avoid JSON error)\n",
        "    sample, label = q.get()\n",
        "    for j in range(len_vector):\n",
        "      data['payload']['values'].append(float(sample[j]))\n",
        "\n",
        "    # Send sample\n",
        "    res = send_sample(data, label, test_set=is_test_set)\n",
        "\n",
        "    # Check response code\n",
        "    if (res.status_code != 200):\n",
        "      print(\"Failed to upload file to Edge Impulse\", res.status_code, res.content)"
      ],
      "execution_count": 13,
      "outputs": []
    },
    {
      "cell_type": "markdown",
      "metadata": {
        "id": "bPdjS2zYoQOB"
      },
      "source": [
        "## Upload training and test sets to Edge Impulse"
      ]
    },
    {
      "cell_type": "code",
      "metadata": {
        "id": "1ayuDYgvoMvd"
      },
      "source": [
        "### Use many threads to send training data and labels to Edge Impulse project\n",
        "\n",
        "# Fill queue with training data and labels\n",
        "q = queue.Queue()\n",
        "for i in range(num_samples_train):\n",
        "  q.put((X_train[i], y_train[i]))\n",
        "\n",
        "# Create and start threads\n",
        "threads = []\n",
        "for i in range(NUM_THREADS):\n",
        "  threads.append(threading.Thread(target=upload_sample, args=(len_vector, False)))\n",
        "  threads[i].start()\n",
        "\n",
        "# Wait for threads to be done\n",
        "for thread in threads:\n",
        "  thread.join()"
      ],
      "execution_count": 14,
      "outputs": []
    },
    {
      "cell_type": "code",
      "metadata": {
        "id": "CFsygGvJoTUo"
      },
      "source": [
        "### Use many threads to send test data and labels to Edge Impulse project\n",
        "\n",
        "# Fill queue with test data and labels\n",
        "q = queue.Queue()\n",
        "for i in range(num_samples_test):\n",
        "  q.put((X_test[i], y_test[i]))\n",
        "\n",
        "# Create and start threads\n",
        "threads = []\n",
        "for i in range(NUM_THREADS):\n",
        "  threads.append(threading.Thread(target=upload_sample, args=(len_vector, True)))\n",
        "  threads[i].start()\n",
        "\n",
        "# Wait for threads to be done\n",
        "for thread in threads:\n",
        "  thread.join()"
      ],
      "execution_count": 15,
      "outputs": []
    },
    {
      "cell_type": "code",
      "metadata": {
        "id": "DuesC4jDTC3W"
      },
      "source": [],
      "execution_count": null,
      "outputs": []
    }
  ]
}