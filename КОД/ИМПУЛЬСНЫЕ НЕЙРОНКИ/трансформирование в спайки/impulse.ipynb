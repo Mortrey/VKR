{
 "cells": [
  {
   "cell_type": "code",
   "execution_count": 2,
   "metadata": {},
   "outputs": [],
   "source": [
    "import numpy as np"
   ]
  },
  {
   "cell_type": "code",
   "execution_count": 3,
   "metadata": {},
   "outputs": [],
   "source": [
    "def encode_to_spikes(data, threshold, max_spike_rate):\n",
    "    \"\"\"\n",
    "    Преобразует данные в последовательности спайков.\n",
    "    \n",
    "    :param data: Входные данные (временные ряды)\n",
    "    :param threshold: Порог для генерации спайков\n",
    "    :param max_spike_rate: Максимальная частота генерации спайков\n",
    "    :return: Последовательности спайков для каждой характеристики\n",
    "    \"\"\"\n",
    "    num_samples, num_features = data.shape\n",
    "    spike_sequences = []\n",
    "\n",
    "    for feature_idx in range(num_features):\n",
    "        feature_data = data[:, feature_idx]\n",
    "        spike_sequence = []\n",
    "\n",
    "        for value in feature_data:\n",
    "            if value >= threshold:\n",
    "                # Рассчитываем частоту генерации спайков на основе значения\n",
    "                spike_rate = (value - threshold) / (max_spike_rate - threshold)\n",
    "                # Генерируем спайк с вероятностью, соответствующей частоте\n",
    "                spike = np.random.uniform(0, 1) < spike_rate\n",
    "                spike_sequence.append(spike)\n",
    "            else:\n",
    "                spike_sequence.append(False)\n",
    "\n",
    "        spike_sequences.append(spike_sequence)\n",
    "\n",
    "    return spike_sequences"
   ]
  },
  {
   "cell_type": "code",
   "execution_count": 47,
   "metadata": {},
   "outputs": [
    {
     "data": {
      "text/plain": [
       "0.7500000000000001"
      ]
     },
     "execution_count": 47,
     "metadata": {},
     "output_type": "execute_result"
    }
   ],
   "source": [
    "(0.8 - 0.5) / (0.9 - 0.5) "
   ]
  },
  {
   "cell_type": "code",
   "execution_count": 45,
   "metadata": {},
   "outputs": [
    {
     "data": {
      "text/plain": [
       "0.2953375741162334"
      ]
     },
     "execution_count": 45,
     "metadata": {},
     "output_type": "execute_result"
    }
   ],
   "source": [
    "np.random.uniform(0, 1)"
   ]
  },
  {
   "cell_type": "code",
   "execution_count": 7,
   "metadata": {},
   "outputs": [
    {
     "data": {
      "text/plain": [
       "(100, 4)"
      ]
     },
     "execution_count": 7,
     "metadata": {},
     "output_type": "execute_result"
    }
   ],
   "source": [
    "data = np.random.rand(100, 4)  # Пример данных (100 временных отсчетов, 4 характеристики)\n",
    "data.shape"
   ]
  },
  {
   "cell_type": "code",
   "execution_count": 8,
   "metadata": {},
   "outputs": [],
   "source": [
    "threshold = 0.5  # Порог для генерации спайков\n",
    "max_spike_rate = 0.9  # Максимальная частота генерации спайков"
   ]
  },
  {
   "cell_type": "code",
   "execution_count": 9,
   "metadata": {},
   "outputs": [],
   "source": [
    "spike_sequences = encode_to_spikes(data, threshold, max_spike_rate)"
   ]
  },
  {
   "cell_type": "code",
   "execution_count": 31,
   "metadata": {},
   "outputs": [],
   "source": [
    "data2 = data.T"
   ]
  },
  {
   "cell_type": "code",
   "execution_count": 36,
   "metadata": {},
   "outputs": [
    {
     "data": {
      "text/plain": [
       "array([0.40597835, 0.32648158, 0.48187594, 0.99635463, 0.62716424,\n",
       "       0.16444069, 0.3523768 , 0.96283246, 0.62834795, 0.45175365,\n",
       "       0.2224298 , 0.43150558, 0.63538995, 0.30399501, 0.60451629,\n",
       "       0.39661839, 0.49911421, 0.70635087, 0.18646625, 0.1656125 ,\n",
       "       0.65018786, 0.10436135, 0.43050247, 0.79028521, 0.63728841,\n",
       "       0.12124891, 0.20513815, 0.32600587, 0.6033584 , 0.84593064,\n",
       "       0.25006913, 0.00986561, 0.2584166 , 0.75649882, 0.70971708,\n",
       "       0.60537479, 0.01614468, 0.46495749, 0.86232415, 0.38357156,\n",
       "       0.99250787, 0.30969135, 0.90587306, 0.85884817, 0.60745008,\n",
       "       0.35604234, 0.73388648, 0.61966448, 0.10379887, 0.5514101 ,\n",
       "       0.55621913, 0.28800187, 0.20799831, 0.46293641, 0.10150431,\n",
       "       0.83928972, 0.02681921, 0.1489877 , 0.43914774, 0.97790691,\n",
       "       0.90522464, 0.9395525 , 0.19530773, 0.74582655, 0.68087995,\n",
       "       0.00829858, 0.24367862, 0.54755948, 0.49389972, 0.10323596,\n",
       "       0.90935237, 0.2847232 , 0.10635802, 0.66643815, 0.94011609,\n",
       "       0.512124  , 0.86064158, 0.65193036, 0.7405534 , 0.31706882,\n",
       "       0.73993349, 0.83149899, 0.50625549, 0.4317735 , 0.76536177,\n",
       "       0.86998242, 0.12512694, 0.88434177, 0.60064342, 0.19004044,\n",
       "       0.90045506, 0.91381571, 0.80652909, 0.44104764, 0.8117451 ,\n",
       "       0.16478098, 0.53941661, 0.53283548, 0.40250864, 0.46552883])"
      ]
     },
     "execution_count": 36,
     "metadata": {},
     "output_type": "execute_result"
    }
   ],
   "source": [
    "data2[1]"
   ]
  },
  {
   "cell_type": "code",
   "execution_count": 37,
   "metadata": {},
   "outputs": [
    {
     "data": {
      "text/plain": [
       "[False,\n",
       " False,\n",
       " False,\n",
       " True,\n",
       " True,\n",
       " False,\n",
       " False,\n",
       " True,\n",
       " False,\n",
       " False,\n",
       " False,\n",
       " False,\n",
       " False,\n",
       " False,\n",
       " False,\n",
       " False,\n",
       " False,\n",
       " True,\n",
       " False,\n",
       " False,\n",
       " True,\n",
       " False,\n",
       " False,\n",
       " True,\n",
       " False,\n",
       " False,\n",
       " False,\n",
       " False,\n",
       " False,\n",
       " False,\n",
       " False,\n",
       " False,\n",
       " False,\n",
       " False,\n",
       " False,\n",
       " False,\n",
       " False,\n",
       " False,\n",
       " True,\n",
       " False,\n",
       " True,\n",
       " False,\n",
       " True,\n",
       " True,\n",
       " False,\n",
       " False,\n",
       " False,\n",
       " True,\n",
       " False,\n",
       " False,\n",
       " False,\n",
       " False,\n",
       " False,\n",
       " False,\n",
       " False,\n",
       " True,\n",
       " False,\n",
       " False,\n",
       " False,\n",
       " True,\n",
       " True,\n",
       " True,\n",
       " False,\n",
       " True,\n",
       " True,\n",
       " False,\n",
       " False,\n",
       " True,\n",
       " False,\n",
       " False,\n",
       " True,\n",
       " False,\n",
       " False,\n",
       " False,\n",
       " True,\n",
       " False,\n",
       " True,\n",
       " True,\n",
       " True,\n",
       " False,\n",
       " True,\n",
       " True,\n",
       " False,\n",
       " False,\n",
       " True,\n",
       " True,\n",
       " False,\n",
       " True,\n",
       " False,\n",
       " False,\n",
       " True,\n",
       " True,\n",
       " True,\n",
       " False,\n",
       " True,\n",
       " False,\n",
       " False,\n",
       " False,\n",
       " False,\n",
       " False]"
      ]
     },
     "execution_count": 37,
     "metadata": {},
     "output_type": "execute_result"
    }
   ],
   "source": [
    "spike_sequences[1]"
   ]
  },
  {
   "cell_type": "code",
   "execution_count": null,
   "metadata": {},
   "outputs": [],
   "source": [
    "# Пример использования\n",
    "data = np.random.rand(100, 4)  # Пример данных (100 временных отсчетов, 4 характеристики)\n",
    "threshold = 0.5  # Порог для генерации спайков\n",
    "max_spike_rate = 0.9  # Максимальная частота генерации спайков\n",
    "spike_sequences = encode_to_spikes(data, threshold, max_spike_rate)\n",
    "\n",
    "# В spike_sequences теперь содержится последовательность спайков для каждой характеристики"
   ]
  }
 ],
 "metadata": {
  "kernelspec": {
   "display_name": "Python 3",
   "language": "python",
   "name": "python3"
  },
  "language_info": {
   "codemirror_mode": {
    "name": "ipython",
    "version": 3
   },
   "file_extension": ".py",
   "mimetype": "text/x-python",
   "name": "python",
   "nbconvert_exporter": "python",
   "pygments_lexer": "ipython3",
   "version": "3.11.2"
  },
  "orig_nbformat": 4
 },
 "nbformat": 4,
 "nbformat_minor": 2
}
