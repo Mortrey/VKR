{
 "cells": [
  {
   "cell_type": "markdown",
   "metadata": {},
   "source": [
    "C Conversion\n",
    "---\n",
    "All we need to do to convert our Mahalanobis Distance model to C is to save the mean vector and inverse of the covariance matrix as constant arrays."
   ]
  },
  {
   "cell_type": "code",
   "execution_count": 23,
   "metadata": {},
   "outputs": [],
   "source": [
    "from os import listdir\n",
    "from os.path import join\n",
    "import numpy as np\n",
    "import scipy as sp\n",
    "from scipy import stats\n",
    "import c_writer"
   ]
  },
  {
   "cell_type": "code",
   "execution_count": 24,
   "metadata": {},
   "outputs": [
    {
     "name": "stdout",
     "output_type": "stream",
     "text": [
      "Python 3.7.6\n",
      "Numpy 1.18.1\n",
      "SciPy 1.4.1\n"
     ]
    }
   ],
   "source": [
    "# Print versions\n",
    "!python --version\n",
    "print('Numpy ' + np.__version__)\n",
    "print('SciPy ' + sp.__version__)"
   ]
  },
  {
   "cell_type": "code",
   "execution_count": 25,
   "metadata": {},
   "outputs": [],
   "source": [
    "# Settings (define file locations)\n",
    "models_path = 'models'  # Where we can find the model files (relative path location)\n",
    "md_file_name = 'md_model-moving'   # Mahalanobis Distance model arrays (.npz will be added)\n",
    "c_model_name = 'md_model-moving'   # Will be given .h suffix\n",
    "\n",
    "c_mean_name = 'model_mu'\n",
    "c_inv_cov_name = 'model_inv_cov'"
   ]
  },
  {
   "cell_type": "code",
   "execution_count": 26,
   "metadata": {},
   "outputs": [
    {
     "name": "stdout",
     "output_type": "stream",
     "text": [
      "[0.00769517 0.00414957 0.00490948]\n",
      "[[1.43478461e-05 7.25720447e-06 1.87261642e-06]\n",
      " [7.25720447e-06 1.41098698e-05 3.71337361e-06]\n",
      " [1.87261642e-06 3.71337361e-06 2.22039820e-06]]\n"
     ]
    }
   ],
   "source": [
    "# Load model\n",
    "with np.load(join(models_path, md_file_name) + '.npz') as data:\n",
    "    model_mu = data['model_mu']\n",
    "    model_cov = data['model_cov']\n",
    "print(model_mu)\n",
    "print(model_cov)"
   ]
  },
  {
   "cell_type": "code",
   "execution_count": 27,
   "metadata": {},
   "outputs": [
    {
     "name": "stdout",
     "output_type": "stream",
     "text": [
      "[[  94214.38738546  -49201.81370746    2827.10913737]\n",
      " [ -49201.81370746  152282.54724185 -213180.62124189]\n",
      " [   2827.10913737 -213180.62124189  804506.68775838]]\n"
     ]
    }
   ],
   "source": [
    "# Calculate inverse of covariance matrix (as it's constant)\n",
    "inv_cov = sp.linalg.inv(model_cov)\n",
    "print(inv_cov)"
   ]
  },
  {
   "cell_type": "code",
   "execution_count": 6,
   "metadata": {},
   "outputs": [],
   "source": [
    "# Create constant C arrays for model (mu and inverse covariance)\n",
    "c_mu = c_writer.create_array(model_mu, 'float', c_mean_name)\n",
    "c_inv_cov = c_writer.create_array(inv_cov, 'float', c_inv_cov_name)"
   ]
  },
  {
   "cell_type": "code",
   "execution_count": 7,
   "metadata": {},
   "outputs": [
    {
     "name": "stdout",
     "output_type": "stream",
     "text": [
      "#ifndef MD_MODEL-MOVING_H\n",
      "#define MD_MODEL-MOVING_H\n",
      "\n",
      "const unsigned int model_mu_dim1 = 3;\n",
      "\n",
      "const float model_mu[3] = {\n",
      "    0.007695169087292815, 0.004149572143093924, 0.004909478363535906\n",
      "};\n",
      "\n",
      "const unsigned int model_inv_cov_dim1 = 3;\n",
      "const unsigned int model_inv_cov_dim2 = 3;\n",
      "\n",
      "const float model_inv_cov[3][3] = {\n",
      "    94214.3873854578, -49201.81370745852, 2827.1091373699887, \n",
      "    -49201.813707458496, 152282.54724185396, -213180.62124189397, \n",
      "    2827.109137369931, -213180.6212418939, 804506.6877583836\n",
      "};\n",
      "\n",
      "#endif //MD_MODEL-MOVING_H\n"
     ]
    }
   ],
   "source": [
    "# Construct header file\n",
    "header_str = c_writer.create_header(c_mu + '\\n' + c_inv_cov, c_model_name)\n",
    "print(header_str)"
   ]
  },
  {
   "cell_type": "code",
   "execution_count": 8,
   "metadata": {},
   "outputs": [],
   "source": [
    "# Save C header file\n",
    "with open(join(models_path, c_model_name) + '.h', 'w') as file:\n",
    "    file.write(header_str)"
   ]
  },
  {
   "cell_type": "markdown",
   "metadata": {},
   "source": [
    "Save Samples for Testing\n",
    "---\n",
    "Convert raw sample to constant C array for testing."
   ]
  },
  {
   "cell_type": "code",
   "execution_count": 8,
   "metadata": {},
   "outputs": [],
   "source": [
    "# Saved Numpy test samples file location\n",
    "sample_file_path = '..\\\\test_samples'\n",
    "sample_file_name = 'normal_anomaly_samples'  # Will be given .npz suffix\n",
    "c_normal_sample_name = 'normal_sample'       # Will be given .h suffix for file\n",
    "c_anomaly_sample_name = 'anomaly_sample'     # Will be given .h suffix for file"
   ]
  },
  {
   "cell_type": "code",
   "execution_count": 9,
   "metadata": {},
   "outputs": [
    {
     "name": "stdout",
     "output_type": "stream",
     "text": [
      "(200, 3)\n",
      "(200, 3)\n",
      "[[0.07666  0.170898 0.981445]\n",
      " [0.063477 0.169434 0.988281]\n",
      " [0.073242 0.166992 0.989258]\n",
      " [0.07373  0.170898 0.987305]\n",
      " [0.069336 0.166992 0.989746]]\n",
      "[[-0.024414  0.187988  0.961914]\n",
      " [-0.01416   0.195801  0.986816]\n",
      " [-0.020996  0.193359  0.98877 ]\n",
      " [-0.021973  0.191406  0.983398]\n",
      " [-0.010742  0.199219  0.996582]]\n"
     ]
    }
   ],
   "source": [
    "# Load test samples\n",
    "with np.load(join(sample_file_path, sample_file_name) + '.npz') as data:\n",
    "    normal_sample = data['normal_sample']\n",
    "    anomaly_sample = data['anomaly_sample']\n",
    "print(normal_sample.shape)\n",
    "print(anomaly_sample.shape)\n",
    "print(normal_sample[:5])\n",
    "print(anomaly_sample[:5])"
   ]
  },
  {
   "cell_type": "code",
   "execution_count": 10,
   "metadata": {},
   "outputs": [],
   "source": [
    "# Create C array out of normal sample\n",
    "c_sample = c_writer.create_array(normal_sample, 'float', c_normal_sample_name)\n",
    "header_str = c_writer.create_header(c_sample, c_normal_sample_name)\n",
    "#print(header_str)"
   ]
  },
  {
   "cell_type": "code",
   "execution_count": 36,
   "metadata": {},
   "outputs": [],
   "source": [
    "# Save C header file with normal sample\n",
    "with open(join(sample_file_path, c_normal_sample_name) + '.h', 'w') as file:\n",
    "    file.write(header_str)"
   ]
  },
  {
   "cell_type": "code",
   "execution_count": 37,
   "metadata": {
    "scrolled": true
   },
   "outputs": [
    {
     "name": "stdout",
     "output_type": "stream",
     "text": [
      "#ifndef ANOMALY_SAMPLE_H\n",
      "#define ANOMALY_SAMPLE_H\n",
      "\n",
      "const unsigned int anomaly_sample_dim1 = 200;\n",
      "const unsigned int anomaly_sample_dim2 = 3;\n",
      "\n",
      "const float anomaly_sample[200][3] = {\n",
      "    -0.024414, 0.187988, 0.961914, -0.01416, 0.195801, 0.986816, -0.020996, \n",
      "    0.193359, 0.98877, -0.021973, 0.191406, 0.983398, -0.010742, 0.199219, \n",
      "    0.996582, -0.029297, 0.183594, 0.976074, -0.006348, 0.19873, 0.988281, \n",
      "    -0.022949, 0.18457, 0.978516, -0.015625, 0.161133, 0.975098, -0.020996, \n",
      "    0.194824, 0.98584, -0.024902, 0.187988, 0.98291, -0.019531, 0.190918, \n",
      "    0.979981, -0.021973, 0.20166, 0.982422, -0.029785, 0.188965, 0.966797, \n",
      "    -0.015625, 0.199707, 0.983887, -0.03125, 0.181152, 0.973145, -0.01709, \n",
      "    0.193848, 0.973145, -0.022949, 0.194336, 0.985352, -0.024902, 0.193359, \n",
      "    0.977051, -0.013672, 0.201172, 0.983398, -0.033203, 0.186035, 0.976074, \n",
      "    -0.011719, 0.197266, 0.982422, -0.027832, 0.189453, 0.979981, -0.014648, \n",
      "    0.183105, 0.972656, -0.013672, 0.193848, 0.98584, -0.024902, 0.188965, \n",
      "    0.973145, -0.02002, 0.192383, 0.975586, -0.014648, 0.200195, 0.990723, \n",
      "    -0.02832, 0.192383, 0.973145, -0.008789, 0.198242, 0.987793, -0.027344, \n",
      "    0.18457, 0.975098, -0.01416, 0.193359, 0.982422, -0.023926, 0.193848, \n",
      "    0.982422, -0.020996, 0.193359, 0.978027, -0.012695, 0.202148, 0.988281, \n",
      "    -0.025879, 0.185547, 0.974121, -0.009277, 0.197754, 0.977051, -0.021484, \n",
      "    0.200195, 0.98584, -0.026855, 0.189941, 0.979492, -0.008301, 0.195313, \n",
      "    0.987793, -0.02002, 0.18457, 0.979492, -0.01416, 0.193848, 0.979492, \n",
      "    -0.017578, 0.195313, 0.98584, -0.021973, 0.193359, 0.978516, -0.014648, \n",
      "    0.197266, 0.998047, -0.026855, 0.188965, 0.976563, -0.016113, 0.193359, \n",
      "    0.984863, -0.026367, 0.192383, 0.976074, -0.020508, 0.190918, 0.975586, \n",
      "    -0.02002, 0.197266, 0.979492, -0.028809, 0.189453, 0.977051, -0.011719, \n",
      "    0.193848, 0.974609, -0.018066, 0.19873, 0.982422, -0.029297, 0.189941, \n",
      "    0.973633, -0.015625, 0.194336, 0.991699, -0.027344, 0.185059, 0.979981, \n",
      "    -0.014648, 0.193848, 0.984375, -0.018555, 0.195313, 0.977539, -0.024902, \n",
      "    0.191406, 0.98291, -0.016113, 0.196777, 0.983398, -0.023926, 0.195313, \n",
      "    0.974121, -0.013672, 0.195313, 0.977539, -0.024902, 0.192871, 0.978516, \n",
      "    -0.015625, 0.195801, 0.97168, -0.02002, 0.200195, 0.979981, -0.023926, \n",
      "    0.189941, 0.975586, -0.021484, 0.195313, 0.979492, -0.020996, 0.20166, \n",
      "    0.980957, -0.022461, 0.198242, 0.978027, -0.015625, 0.194824, 0.983887, \n",
      "    -0.022461, 0.19043, 0.984375, -0.01416, 0.189453, 0.984863, -0.018066, \n",
      "    0.193848, 0.980469, -0.019531, 0.190918, 0.991211, -0.015137, 0.194336, \n",
      "    0.984863, -0.021484, 0.1875, 0.984375, -0.009277, 0.191406, 0.98584, \n",
      "    -0.021484, 0.189941, 0.98584, -0.016113, 0.189941, 0.981445, -0.018066, \n",
      "    0.19873, 0.984375, -0.019531, 0.188477, 0.977051, -0.019531, 0.189453, \n",
      "    0.978027, -0.019531, 0.199219, 0.987305, -0.020996, 0.194336, 0.985352, \n",
      "    -0.017578, 0.199219, 0.976074, -0.024414, 0.190918, 0.977051, -0.019043, \n",
      "    0.189453, 0.974609, -0.023926, 0.192871, 0.976563, -0.023438, 0.188965, \n",
      "    0.975098, -0.023438, 0.194824, 0.980469, -0.025879, 0.190918, 0.981445, \n",
      "    -0.015625, 0.194824, 0.972168, -0.022461, 0.188477, 0.983398, -0.021973, \n",
      "    0.217773, 0.986328, -0.018066, 0.192871, 0.976563, -0.018066, 0.192383, \n",
      "    0.98291, -0.017578, 0.188965, 0.980469, -0.014648, 0.199219, 0.983398, \n",
      "    -0.020508, 0.194824, 0.979492, -0.014648, 0.200684, 0.982422, -0.021973, \n",
      "    0.19043, 0.981445, -0.01709, 0.196289, 0.976563, -0.016113, 0.196777, \n",
      "    0.980957, -0.025879, 0.188965, 0.98291, -0.017578, 0.203613, 0.985352, \n",
      "    -0.023438, 0.191895, 0.978516, -0.016113, 0.193359, 0.976563, -0.01709, \n",
      "    0.191406, 0.983887, -0.020996, 0.186035, 0.978516, -0.015625, 0.194336, \n",
      "    0.980469, -0.015137, 0.186523, 0.981445, -0.019043, 0.184082, 0.979981, \n",
      "    -0.013184, 0.197266, 0.984375, -0.021973, 0.187988, 0.987305, -0.01123, \n",
      "    0.197754, 0.983887, -0.019043, 0.1875, 0.98877, -0.014648, 0.191895, \n",
      "    0.976563, -0.015137, 0.193848, 0.982422, -0.025879, 0.187012, 0.973633, \n",
      "    -0.011719, 0.20166, 0.977051, -0.024902, 0.191406, 0.975586, -0.012695, \n",
      "    0.200195, 0.967773, -0.020996, 0.197754, 0.980957, -0.02832, 0.1875, \n",
      "    0.979492, -0.017578, 0.196777, 0.978516, -0.020508, 0.19043, 0.973633, \n",
      "    -0.024902, 0.189941, 0.974609, -0.018555, 0.196289, 0.982422, -0.02832, \n",
      "    0.189941, 0.977051, -0.01709, 0.194336, 0.984375, -0.025879, 0.182617, \n",
      "    0.98291, -0.019531, 0.193848, 0.98584, -0.016113, 0.18457, 0.981934, \n",
      "    -0.023926, 0.193359, 0.978516, -0.012207, 0.194824, 0.983398, -0.025879, \n",
      "    0.188477, 0.979004, -0.010742, 0.192871, 0.96875, -0.013672, 0.197754, \n",
      "    0.982422, -0.024414, 0.191406, 0.977051, -0.015137, 0.195313, 0.978516, \n",
      "    -0.018555, 0.1875, 0.980469, -0.015625, 0.19873, 0.97168, -0.012207, \n",
      "    0.194336, 0.980469, -0.02832, 0.191406, 0.979004, -0.010742, 0.197266, \n",
      "    0.988281, -0.027832, 0.18457, 0.980957, -0.018066, 0.192871, 0.983398, \n",
      "    -0.019531, 0.18457, 0.987305, -0.021484, 0.19043, 0.983398, -0.015625, \n",
      "    0.192871, 0.98291, -0.028809, 0.186035, 0.980957, -0.024414, 0.193848, \n",
      "    0.979981, -0.010742, 0.194824, 0.984375, -0.026367, 0.188965, 0.979004, \n",
      "    -0.008789, 0.199707, 0.980469, -0.019043, 0.18457, 0.975586, -0.012695, \n",
      "    0.199707, 0.971191, -0.01709, 0.19043, 0.979004, -0.019531, 0.197754, \n",
      "    0.978516, -0.012207, 0.199707, 0.979004, -0.027832, 0.186035, 0.975586, \n",
      "    -0.012207, 0.19873, 0.978516, -0.024902, 0.185547, 0.971191, -0.023926, \n",
      "    0.194824, 0.972656, -0.021484, 0.202637, 0.975586, -0.002441, 0.181641, \n",
      "    0.966797, -0.025391, 0.193848, 0.967285, -0.021973, 0.195801, 0.979981, \n",
      "    -0.031738, 0.188965, 0.973633, -0.01416, 0.199707, 0.984863, -0.026855, \n",
      "    0.18457, 0.975586, -0.010254, 0.202148, 0.979981, -0.021484, 0.189941, \n",
      "    0.979492, -0.020996, 0.193359, 0.976074, -0.014648, 0.199707, 0.986816, \n",
      "    -0.022461, 0.185547, 0.972168, -0.00293, 0.200195, 0.989746, -0.021484, \n",
      "    0.183105, 0.975586, -0.010742, 0.168457, 0.972656, -0.015625, 0.202148, \n",
      "    0.981445, -0.026367, 0.18457, 0.970703, -0.018555, 0.193848, 0.976074, \n",
      "    -0.020508, 0.196777, 0.98291, -0.029297, 0.1875, 0.974609, -0.01416, \n",
      "    0.198242, 0.987305, -0.026367, 0.182617, 0.977051, -0.015625, 0.197754, \n",
      "    0.980469, -0.019043, 0.19043, 0.980469, -0.019531, 0.190918, 0.978516, \n",
      "    -0.013184, 0.197754, 0.992676, -0.026367, 0.183594, 0.981445, -0.007813, \n",
      "    0.195313, 0.998047, -0.024902, 0.213867, 0.987305, -0.01416, 0.184082, \n",
      "    0.973633, -0.006836, 0.200684, 0.986816, -0.021484, 0.183594, 0.98291, \n",
      "    -0.01416, 0.19043, 0.977051, -0.018555, 0.194824, 0.98291, -0.027344, \n",
      "    0.191406, 0.975586, -0.01416, 0.202637, 0.986328\n",
      "};\n",
      "\n",
      "#endif //ANOMALY_SAMPLE_H\n"
     ]
    }
   ],
   "source": [
    "# Create C array out of anomaly sample\n",
    "c_sample = c_writer.create_array(anomaly_sample, 'float', c_anomaly_sample_name)\n",
    "header_str = c_writer.create_header(c_sample, c_anomaly_sample_name)\n",
    "print(header_str)"
   ]
  },
  {
   "cell_type": "code",
   "execution_count": 38,
   "metadata": {},
   "outputs": [],
   "source": [
    "# Save C header file with normal sample\n",
    "with open(join(sample_file_path, c_anomaly_sample_name) + '.h', 'w') as file:\n",
    "    file.write(header_str)"
   ]
  },
  {
   "cell_type": "markdown",
   "metadata": {},
   "source": [
    "Develop C functions\n",
    "---\n",
    "We don't have access to an easy/efficient library for calculating the Mahalanobis Distance in C, so we need to write a few functions from scratch. It's easiest to get the algorithms down in Python first so we can compare the output from a few samples to known good algorithms."
   ]
  },
  {
   "cell_type": "code",
   "execution_count": 11,
   "metadata": {},
   "outputs": [],
   "source": [
    "# Set some settings to test out our functions\n",
    "sensor_sample_rate = 200    # Hz\n",
    "sample_time = 0.64           # Time (sec) length of each sample\n",
    "max_measurements = int(sample_time * sensor_sample_rate)"
   ]
  },
  {
   "cell_type": "code",
   "execution_count": 12,
   "metadata": {},
   "outputs": [
    {
     "name": "stdout",
     "output_type": "stream",
     "text": [
      "[0.00615279 0.00217201 0.00398226]\n"
     ]
    }
   ],
   "source": [
    "# Test extracting features (median absolute deviation) using SciPy\n",
    "sample = normal_sample[0:max_measurements]                  # Truncate to 128 measurements\n",
    "sp_test_features = stats.median_absolute_deviation(sample)  # Calculate MAD\n",
    "print(sp_test_features)"
   ]
  },
  {
   "cell_type": "code",
   "execution_count": 13,
   "metadata": {},
   "outputs": [],
   "source": [
    "# Find median in an array (we'll use qsort in C)\n",
    "# We want to calculate MAD in a C-like fashion to make it easier to port\n",
    "def median(arr):\n",
    "    n = len(arr)\n",
    "    sorted_arr = np.sort(arr)\n",
    "    if n % 2 == 0:\n",
    "        median = (sorted_arr[int((n - 1) / 2)] + sorted_arr[int(n / 2)]) / 2.0\n",
    "    else:\n",
    "        median = sorted_arr[n / 2]\n",
    "    return median"
   ]
  },
  {
   "cell_type": "code",
   "execution_count": 14,
   "metadata": {},
   "outputs": [],
   "source": [
    "# Calculate MAD manually\n",
    "def calc_mad(arr):\n",
    "    \n",
    "    # Find number of elements\n",
    "    n = len(arr)\n",
    "    \n",
    "    # Get median of array\n",
    "    med = median(arr)\n",
    "\n",
    "    # Calculate absolute deviation from median for each element\n",
    "    devs = [0] * n\n",
    "    for i in range(n):\n",
    "        devs[i] = abs(arr[i] - med)\n",
    "    \n",
    "    # Find median of deviations\n",
    "    return median(devs)"
   ]
  },
  {
   "cell_type": "code",
   "execution_count": 15,
   "metadata": {},
   "outputs": [],
   "source": [
    "# Wrapper to extract MAD features for all axis\n",
    "def extract_mad_features(sample, scale=1.4826):\n",
    "    mads = []\n",
    "    \n",
    "    # Calculate MAD for each axis (note: SciPy scales by 1.4826)\n",
    "    # https://github.com/scipy/scipy/issues/11090\n",
    "    for axis in range(sample.shape[1]):\n",
    "        mads.append(scale * calc_mad(sample[:, axis]))\n",
    "        \n",
    "    return mads"
   ]
  },
  {
   "cell_type": "code",
   "execution_count": 16,
   "metadata": {},
   "outputs": [
    {
     "name": "stdout",
     "output_type": "stream",
     "text": [
      "[0.006152790000000001, 0.0021720089999999912, 0.00398226359999995]\n"
     ]
    }
   ],
   "source": [
    "# Test MAD algorithm and compare to SciPy answer\n",
    "sample = normal_sample[0:max_measurements]                  # Truncate to 128 measurements\n",
    "normal_x = extract_mad_features(sample)\n",
    "print(normal_x)"
   ]
  },
  {
   "cell_type": "code",
   "execution_count": 17,
   "metadata": {},
   "outputs": [
    {
     "name": "stdout",
     "output_type": "stream",
     "text": [
      "0.4374791356307415\n"
     ]
    }
   ],
   "source": [
    "# Test: calculate Mahalanobis distance using Numpy\n",
    "x_minus_mu = normal_x - model_mu\n",
    "left_term = np.dot(x_minus_mu, inv_cov)\n",
    "mahal = np.dot(left_term, x_minus_mu.T)\n",
    "print(mahal)"
   ]
  },
  {
   "cell_type": "code",
   "execution_count": 18,
   "metadata": {},
   "outputs": [],
   "source": [
    "# Calculate the dot product of two vectors\n",
    "def dot_product(a, b):\n",
    "    sum = 0\n",
    "    for i in range(len(a)):\n",
    "        sum += a[i] * b[i]\n",
    "        \n",
    "    return sum"
   ]
  },
  {
   "cell_type": "code",
   "execution_count": 19,
   "metadata": {},
   "outputs": [],
   "source": [
    "# Do matrix multiplication\n",
    "def matrix_multiply(a, b):\n",
    "    \n",
    "    # Find number of rows and columns\n",
    "    a_rows = len(a)\n",
    "    a_cols = len(a[0])\n",
    "    b_rows = len(b)\n",
    "    b_cols = len(b[0])\n",
    "    \n",
    "    # Check to make sure we can multiply the matrices\n",
    "    if a_cols != b_rows:\n",
    "        print('Dimension mismatch')\n",
    "        return [[]]\n",
    "    \n",
    "    # Create return matrix\n",
    "    prod = [[0 for i in range(b_cols)] for j in range(a_rows)]\n",
    "    \n",
    "    # Calculate the dot product for each element in the return matrix\n",
    "    for i in range(a_rows):\n",
    "        for j in range(b_cols):\n",
    "            for k in range(a_cols):\n",
    "                prod[i][j] += a[i][k] * b[k][j]\n",
    "    \n",
    "    return prod"
   ]
  },
  {
   "cell_type": "code",
   "execution_count": 20,
   "metadata": {},
   "outputs": [],
   "source": [
    "# Calculate Mahalanobis distance the C way (with const inverse covariance)\n",
    "def mahalanobis(x, mu, inv_cov):\n",
    "    \n",
    "    # Subtract each element in X from the mean\n",
    "    x_minus_mu = [0 for i in range(len(x))]\n",
    "    for i in range(len(x)):\n",
    "        x_minus_mu[i] = x[i] - mu[i]\n",
    "        \n",
    "    # Compute product of prev term and inverse covariance\n",
    "    left_term = matrix_multiply([x_minus_mu], inv_cov)\n",
    "    \n",
    "    # Transpose difference matrix\n",
    "    x_minus_mu_t = [[i] for i in x_minus_mu]\n",
    "    \n",
    "    # Matrix multiply prev term and difference\n",
    "    mahal = matrix_multiply(left_term, x_minus_mu_t)\n",
    "    \n",
    "    return mahal[0][0]"
   ]
  },
  {
   "cell_type": "code",
   "execution_count": 21,
   "metadata": {},
   "outputs": [
    {
     "name": "stdout",
     "output_type": "stream",
     "text": [
      "Normal Sample\n",
      "MAD: [0.006152790000000001, 0.0021720089999999912, 0.00398226359999995]\n",
      "Mahalanobis distance: 0.4374791356307415\n"
     ]
    }
   ],
   "source": [
    "# Test Mahalanobis function with normal sample\n",
    "print('Normal Sample')\n",
    "print('MAD:', normal_x)\n",
    "print('Mahalanobis distance:', mahalanobis(normal_x, model_mu.tolist(), inv_cov.tolist()))"
   ]
  },
  {
   "cell_type": "code",
   "execution_count": 22,
   "metadata": {},
   "outputs": [
    {
     "name": "stdout",
     "output_type": "stream",
     "text": [
      "Anomaly Sample\n",
      "MAD: [0.0057917769, 0.0050675268000000065, 0.00542928120000008]\n",
      "Mahalanobis distance: 0.6499213735195706\n"
     ]
    }
   ],
   "source": [
    "# Test Mahalanobis function with anomaly sample\n",
    "print('Anomaly Sample')\n",
    "sample = anomaly_sample[0:max_measurements]  # Truncate to 128 measurements\n",
    "anomaly_x = extract_mad_features(sample)\n",
    "print('MAD:', anomaly_x)\n",
    "print('Mahalanobis distance:', mahalanobis(anomaly_x, model_mu, inv_cov))"
   ]
  },
  {
   "cell_type": "code",
   "execution_count": null,
   "metadata": {},
   "outputs": [],
   "source": []
  }
 ],
 "metadata": {
  "kernelspec": {
   "display_name": "Python 3",
   "language": "python",
   "name": "python3"
  },
  "language_info": {
   "codemirror_mode": {
    "name": "ipython",
    "version": 3
   },
   "file_extension": ".py",
   "mimetype": "text/x-python",
   "name": "python",
   "nbconvert_exporter": "python",
   "pygments_lexer": "ipython3",
   "version": "3.7.6"
  }
 },
 "nbformat": 4,
 "nbformat_minor": 4
}
