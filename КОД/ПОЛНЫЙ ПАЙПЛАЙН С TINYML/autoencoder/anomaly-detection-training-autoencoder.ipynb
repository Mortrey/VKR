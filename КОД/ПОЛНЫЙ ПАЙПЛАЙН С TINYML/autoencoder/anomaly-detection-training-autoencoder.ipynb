{
 "cells": [
  {
   "cell_type": "code",
   "execution_count": 35,
   "metadata": {},
   "outputs": [],
   "source": [
    "from os import listdir\n",
    "from os.path import join\n",
    "import numpy as np\n",
    "import pandas as pd\n",
    "import matplotlib.pyplot as plt\n",
    "import random\n",
    "from scipy import stats\n",
    "import tensorflow as tf\n",
    "from tensorflow.keras import layers, models, optimizers, regularizers\n",
    "from sklearn.metrics import confusion_matrix\n",
    "import seaborn as sn"
   ]
  },
  {
   "cell_type": "code",
   "execution_count": 36,
   "metadata": {},
   "outputs": [
    {
     "name": "stdout",
     "output_type": "stream",
     "text": [
      "Python 3.7.6\n",
      "Numpy 1.18.1\n",
      "TensorFlow 2.1.0\n",
      "Keras 2.2.4-tf\n"
     ]
    }
   ],
   "source": [
    "# Print versions\n",
    "!python --version\n",
    "print('Numpy ' + np.__version__)\n",
    "print('TensorFlow ' + tf.__version__)\n",
    "print('Keras ' + tf.keras.__version__)"
   ]
  },
  {
   "cell_type": "code",
   "execution_count": 79,
   "metadata": {},
   "outputs": [
    {
     "name": "stdout",
     "output_type": "stream",
     "text": [
      "Max measurements per file: 128\n",
      "Downsample factor: 2\n",
      "Window length: 64\n"
     ]
    }
   ],
   "source": [
    "# Settings\n",
    "dataset_path = '..\\\\datasets\\\\ceiling-fan'  # Directory where raw accelerometer data is stored\n",
    "normal_op_list = ['fan_0_low_0_weight-moving'] #['fan_0_low_0_weight']\n",
    "anomaly_op_list = ['fan_0_med_0_weight', 'fan_0_high_0_weight',\n",
    "                  'fan_0_low_1_weight', 'fan_0_med_1_weight', 'fan_0_high_1_weight']\n",
    "val_ratio = 0.2             # Percentage of samples that should be held for validation set\n",
    "test_ratio = 0.2            # Percentage of samples that should be held for test set\n",
    "raw_scale = 1               # Multiply raw values to fit into integers\n",
    "sensor_sample_rate = 200    # Hz\n",
    "desired_sample_rate = 50    # Hz\n",
    "sample_time = 0.64           # Time (sec) length of each sample\n",
    "samples_per_file = 128      # Expected number of measurements in each file (truncate to this)\n",
    "max_measurements = int(sample_time * sensor_sample_rate)\n",
    "downsample_factor = int(samples_per_file / desired_sample_rate)\n",
    "win_len = int(max_measurements / downsample_factor)\n",
    "\n",
    "keras_model_name = 'models\\\\fan_low_model-moving'           # Will be given .h5 suffix\n",
    "sample_file_name = '..\\\\test_samples\\\\normal_anomaly_samples'  # Will be given .npz suffix\n",
    "rep_dataset_name = '..\\\\test_samples\\\\normal_anomaly_test_set' # Will be given .npz suffix\n",
    "\n",
    "print('Max measurements per file:', max_measurements)\n",
    "print('Downsample factor:', downsample_factor)\n",
    "print('Window length:', win_len)"
   ]
  },
  {
   "cell_type": "code",
   "execution_count": 38,
   "metadata": {},
   "outputs": [],
   "source": [
    "# Create list of filenames\n",
    "def createFilenameList(op_list):\n",
    "    \n",
    "    # Extract paths and filenames in each directory\n",
    "    op_filenames = []\n",
    "    num_samples = 0\n",
    "    for index, target in enumerate(op_list):\n",
    "        samples_in_dir = listdir(join(dataset_path, target))\n",
    "        samples_in_dir = [join(dataset_path, target, sample) for sample in samples_in_dir]\n",
    "        op_filenames.append(samples_in_dir)\n",
    "    \n",
    "    # Flatten list\n",
    "    return [item for sublist in op_filenames for item in sublist]"
   ]
  },
  {
   "cell_type": "code",
   "execution_count": 39,
   "metadata": {},
   "outputs": [
    {
     "name": "stdout",
     "output_type": "stream",
     "text": [
      "Number of normal samples: 299\n",
      "Number of anomaly samples: 2926\n"
     ]
    }
   ],
   "source": [
    "# Create normal and anomaly filename lists\n",
    "normal_op_filenames = createFilenameList(normal_op_list)\n",
    "anomaly_op_filenames = createFilenameList(anomaly_op_list)\n",
    "print('Number of normal samples:', len(normal_op_filenames))\n",
    "print('Number of anomaly samples:', len(anomaly_op_filenames))"
   ]
  },
  {
   "cell_type": "code",
   "execution_count": 40,
   "metadata": {},
   "outputs": [],
   "source": [
    "# Shuffle lists\n",
    "random.shuffle(normal_op_filenames)\n",
    "random.shuffle(anomaly_op_filenames)"
   ]
  },
  {
   "cell_type": "code",
   "execution_count": 41,
   "metadata": {},
   "outputs": [],
   "source": [
    "# Calculate validation and test set sizes\n",
    "val_set_size = int(len(normal_op_filenames) * val_ratio)\n",
    "test_set_size = int(len(normal_op_filenames) * test_ratio)"
   ]
  },
  {
   "cell_type": "code",
   "execution_count": 42,
   "metadata": {},
   "outputs": [
    {
     "name": "stdout",
     "output_type": "stream",
     "text": [
      "Number of training samples: 181\n",
      "Number of validation samples: 59\n",
      "Number of test samples: 59\n"
     ]
    }
   ],
   "source": [
    "# Break dataset apart into train, validation, and test sets\n",
    "num_samples = len(normal_op_filenames)\n",
    "filenames_val = normal_op_filenames[:val_set_size]\n",
    "filenames_test = normal_op_filenames[val_set_size:(val_set_size + test_set_size)]\n",
    "filenames_train = normal_op_filenames[(val_set_size + test_set_size):]\n",
    "\n",
    "# Print out number of samples in each set\n",
    "print('Number of training samples:', len(filenames_train))\n",
    "print('Number of validation samples:', len(filenames_val))\n",
    "print('Number of test samples:', len(filenames_test))\n",
    "\n",
    "# Check that our splits add up correctly\n",
    "assert(len(filenames_train) + len(filenames_val) + len(filenames_test)) == num_samples"
   ]
  },
  {
   "cell_type": "code",
   "execution_count": 43,
   "metadata": {},
   "outputs": [],
   "source": [
    "# Function: extract specified features (variances, MAD) from sample\n",
    "def extract_features(sample, max_measurements=0, scale=1):\n",
    "    \n",
    "    features = []\n",
    "    \n",
    "    # Truncate sample\n",
    "    if max_measurements == 0:\n",
    "        max_measurements = sample.shape[0]\n",
    "    sample = sample[0:max_measurements]\n",
    "    \n",
    "    # Scale sample\n",
    "    sample = scale * sample\n",
    "    \n",
    "        \n",
    "#     # Remove DC component\n",
    "#     sample = sample - np.mean(sample, axis=0)\n",
    "    \n",
    "#     # Truncate sample\n",
    "#     sample = sample[0:max_measurements]\n",
    "    \n",
    "#     # Variance\n",
    "#     features.append(np.var(sample, axis=0))\n",
    "    \n",
    "#     # Kurtosis\n",
    "#     features.append(stats.kurtosis(sample))\n",
    "    \n",
    "#     # Skew\n",
    "#     features.append(stats.skew(sample))\n",
    "    \n",
    "    # Median absolute deviation (MAD)\n",
    "    features.append(stats.median_absolute_deviation(sample))\n",
    "    \n",
    "#     # Correlation\n",
    "#     cov = np.corrcoef(sample.T)\n",
    "#     features.append(np.array([cov[0,1], cov[0,2], cov[1,2]]))\n",
    "    \n",
    "    # Compute a windowed FFT of each axis in the sample (leave off DC)\n",
    "#     sample = sample[::downsample_factor, :]  # Downsample\n",
    "#     sample = np.floor(sample)                # Round down to int\n",
    "#     hann_window = np.hanning(sample.shape[0])\n",
    "#     for i, axis in enumerate(sample.T):\n",
    "#         fft = abs(np.fft.rfft(axis * hann_window))\n",
    "#         features.append(fft[1:])  # Leave off DC\n",
    "    \n",
    "    return np.array(features).flatten()"
   ]
  },
  {
   "cell_type": "code",
   "execution_count": 44,
   "metadata": {},
   "outputs": [
    {
     "name": "stdout",
     "output_type": "stream",
     "text": [
      "(3,)\n",
      "[0.00615279 0.00217201 0.00398226]\n"
     ]
    },
    {
     "data": {
      "text/plain": [
       "[<matplotlib.lines.Line2D at 0x154ba56c488>]"
      ]
     },
     "execution_count": 44,
     "metadata": {},
     "output_type": "execute_result"
    },
    {
     "data": {
      "image/png": "[encoded data removed]",
      "text/plain": [
       "<Figure size 432x288 with 1 Axes>"
      ]
     },
     "metadata": {
      "needs_background": "light"
     },
     "output_type": "display_data"
    }
   ],
   "source": [
    "# Test with 1 sample\n",
    "sample = np.genfromtxt(filenames_test[0], delimiter=',')\n",
    "features = extract_features(sample, max_measurements, scale=raw_scale)\n",
    "print(features.shape)\n",
    "print(features)\n",
    "plt.plot(features)"
   ]
  },
  {
   "cell_type": "code",
   "execution_count": 45,
   "metadata": {},
   "outputs": [],
   "source": [
    "# Function: loop through filenames, creating feature sets\n",
    "def create_feature_set(filenames):\n",
    "    x_out = []\n",
    "    for file in filenames:\n",
    "        sample = np.genfromtxt(file, delimiter=',')\n",
    "        features = extract_features(sample, max_measurements, raw_scale)\n",
    "        x_out.append(features)\n",
    "        \n",
    "    return np.array(x_out)"
   ]
  },
  {
   "cell_type": "code",
   "execution_count": 46,
   "metadata": {},
   "outputs": [
    {
     "name": "stdout",
     "output_type": "stream",
     "text": [
      "Extracted features from training set. Shape: (181, 3)\n",
      "Extracted features from validation set. Shape: (59, 3)\n",
      "Extracted features from test set. Shape: (59, 3)\n"
     ]
    }
   ],
   "source": [
    "# Create training, validation, and test sets\n",
    "x_train = create_feature_set(filenames_train)\n",
    "print('Extracted features from training set. Shape:', x_train.shape)\n",
    "x_val = create_feature_set(filenames_val)\n",
    "print('Extracted features from validation set. Shape:', x_val.shape)\n",
    "x_test = create_feature_set(filenames_test)\n",
    "print('Extracted features from test set. Shape:', x_test.shape)"
   ]
  },
  {
   "cell_type": "code",
   "execution_count": 47,
   "metadata": {},
   "outputs": [
    {
     "name": "stdout",
     "output_type": "stream",
     "text": [
      "(3,)\n"
     ]
    }
   ],
   "source": [
    "# Get input shape for 1 sample\n",
    "sample_shape = x_train.shape[1:]\n",
    "print(sample_shape)"
   ]
  },
  {
   "cell_type": "code",
   "execution_count": 63,
   "metadata": {},
   "outputs": [
    {
     "name": "stdout",
     "output_type": "stream",
     "text": [
      "Model: \"sequential_10\"\n",
      "_________________________________________________________________\n",
      "Layer (type)                 Output Shape              Param #   \n",
      "=================================================================\n",
      "dense_20 (Dense)             (None, 2)                 8         \n",
      "_________________________________________________________________\n",
      "dropout_10 (Dropout)         (None, 2)                 0         \n",
      "_________________________________________________________________\n",
      "dense_21 (Dense)             (None, 3)                 9         \n",
      "=================================================================\n",
      "Total params: 17\n",
      "Trainable params: 17\n",
      "Non-trainable params: 0\n",
      "_________________________________________________________________\n"
     ]
    }
   ],
   "source": [
    "# Build model\n",
    "# Based on: https://medium.com/@curiousily/credit-card-fraud-detection-using-autoencoders-in-keras-tensorflow-for-hackers-part-vii-20e0c85301bd\n",
    "encoding_dim = 2       # Number of nodes in first layer\n",
    "model = models.Sequential([\n",
    "    layers.InputLayer(input_shape=sample_shape),\n",
    "    layers.Dense(encoding_dim, activation='relu'),\n",
    "    layers.Dropout(0.2),\n",
    "    layers.Dense(*sample_shape, activation='relu')\n",
    "])\n",
    "\n",
    "# Display model\n",
    "model.summary()"
   ]
  },
  {
   "cell_type": "code",
   "execution_count": 64,
   "metadata": {},
   "outputs": [],
   "source": [
    "# Add training parameters to model\n",
    "model.compile(optimizer='adam',\n",
    "             loss='mse')"
   ]
  },
  {
   "cell_type": "code",
   "execution_count": 65,
   "metadata": {},
   "outputs": [
    {
     "name": "stdout",
     "output_type": "stream",
     "text": [
      "Train on 181 samples, validate on 59 samples\n",
      "Epoch 1/50\n",
      "181/181 [==============================] - 0s 2ms/sample - loss: 4.1740e-05 - val_loss: 2.7205e-05\n",
      "Epoch 2/50\n",
      "181/181 [==============================] - 0s 55us/sample - loss: 3.6577e-05 - val_loss: 3.0068e-05\n",
      "Epoch 3/50\n",
      "181/181 [==============================] - 0s 66us/sample - loss: 3.5605e-05 - val_loss: 2.9647e-05\n",
      "Epoch 4/50\n",
      "181/181 [==============================] - 0s 61us/sample - loss: 3.6264e-05 - val_loss: 2.3591e-05\n",
      "Epoch 5/50\n",
      "181/181 [==============================] - 0s 66us/sample - loss: 2.9814e-05 - val_loss: 1.9860e-05\n",
      "Epoch 6/50\n",
      "181/181 [==============================] - 0s 72us/sample - loss: 2.6450e-05 - val_loss: 1.9045e-05\n",
      "Epoch 7/50\n",
      "181/181 [==============================] - 0s 55us/sample - loss: 2.6769e-05 - val_loss: 1.9133e-05\n",
      "Epoch 8/50\n",
      "181/181 [==============================] - 0s 61us/sample - loss: 2.7531e-05 - val_loss: 1.8300e-05\n",
      "Epoch 9/50\n",
      "181/181 [==============================] - 0s 61us/sample - loss: 2.6435e-05 - val_loss: 1.7111e-05\n",
      "Epoch 10/50\n",
      "181/181 [==============================] - 0s 55us/sample - loss: 2.6059e-05 - val_loss: 1.6843e-05\n",
      "Epoch 11/50\n",
      "181/181 [==============================] - 0s 55us/sample - loss: 2.4881e-05 - val_loss: 1.7164e-05\n",
      "Epoch 12/50\n",
      "181/181 [==============================] - 0s 50us/sample - loss: 2.4534e-05 - val_loss: 1.7360e-05\n",
      "Epoch 13/50\n",
      "181/181 [==============================] - 0s 55us/sample - loss: 2.4759e-05 - val_loss: 1.7041e-05\n",
      "Epoch 14/50\n",
      "181/181 [==============================] - 0s 72us/sample - loss: 2.3485e-05 - val_loss: 1.6409e-05\n",
      "Epoch 15/50\n",
      "181/181 [==============================] - 0s 55us/sample - loss: 2.3852e-05 - val_loss: 1.5329e-05\n",
      "Epoch 16/50\n",
      "181/181 [==============================] - 0s 66us/sample - loss: 2.3627e-05 - val_loss: 1.4035e-05\n",
      "Epoch 17/50\n",
      "181/181 [==============================] - 0s 66us/sample - loss: 2.2932e-05 - val_loss: 1.2928e-05\n",
      "Epoch 18/50\n",
      "181/181 [==============================] - 0s 61us/sample - loss: 2.2829e-05 - val_loss: 1.2387e-05\n",
      "Epoch 19/50\n",
      "181/181 [==============================] - 0s 61us/sample - loss: 2.2194e-05 - val_loss: 1.2358e-05\n",
      "Epoch 20/50\n",
      "181/181 [==============================] - 0s 61us/sample - loss: 2.1149e-05 - val_loss: 1.2578e-05\n",
      "Epoch 21/50\n",
      "181/181 [==============================] - 0s 72us/sample - loss: 1.9909e-05 - val_loss: 1.2651e-05\n",
      "Epoch 22/50\n",
      "181/181 [==============================] - 0s 50us/sample - loss: 2.0772e-05 - val_loss: 1.2398e-05\n",
      "Epoch 23/50\n",
      "181/181 [==============================] - 0s 61us/sample - loss: 1.9717e-05 - val_loss: 1.1868e-05\n",
      "Epoch 24/50\n",
      "181/181 [==============================] - 0s 66us/sample - loss: 1.9665e-05 - val_loss: 1.1298e-05\n",
      "Epoch 25/50\n",
      "181/181 [==============================] - 0s 55us/sample - loss: 1.8762e-05 - val_loss: 1.0990e-05\n",
      "Epoch 26/50\n",
      "181/181 [==============================] - 0s 66us/sample - loss: 1.8498e-05 - val_loss: 1.0823e-05\n",
      "Epoch 27/50\n",
      "181/181 [==============================] - 0s 55us/sample - loss: 1.8547e-05 - val_loss: 1.0931e-05\n",
      "Epoch 28/50\n",
      "181/181 [==============================] - 0s 77us/sample - loss: 1.8897e-05 - val_loss: 1.1073e-05\n",
      "Epoch 29/50\n",
      "181/181 [==============================] - 0s 66us/sample - loss: 1.9005e-05 - val_loss: 1.1168e-05\n",
      "Epoch 30/50\n",
      "181/181 [==============================] - 0s 55us/sample - loss: 1.8936e-05 - val_loss: 1.1163e-05\n",
      "Epoch 31/50\n",
      "181/181 [==============================] - 0s 72us/sample - loss: 1.9001e-05 - val_loss: 1.1251e-05\n",
      "Epoch 32/50\n",
      "181/181 [==============================] - 0s 61us/sample - loss: 1.8277e-05 - val_loss: 1.1107e-05\n",
      "Epoch 33/50\n",
      "181/181 [==============================] - 0s 61us/sample - loss: 1.8405e-05 - val_loss: 1.0915e-05\n",
      "Epoch 34/50\n",
      "181/181 [==============================] - 0s 66us/sample - loss: 1.8470e-05 - val_loss: 1.0698e-05\n",
      "Epoch 35/50\n",
      "181/181 [==============================] - 0s 61us/sample - loss: 1.8463e-05 - val_loss: 1.0572e-05\n",
      "Epoch 36/50\n",
      "181/181 [==============================] - 0s 83us/sample - loss: 1.8612e-05 - val_loss: 1.0631e-05\n",
      "Epoch 37/50\n",
      "181/181 [==============================] - 0s 66us/sample - loss: 1.7745e-05 - val_loss: 1.0760e-05\n",
      "Epoch 38/50\n",
      "181/181 [==============================] - 0s 72us/sample - loss: 1.8700e-05 - val_loss: 1.0810e-05\n",
      "Epoch 39/50\n",
      "181/181 [==============================] - 0s 50us/sample - loss: 1.8361e-05 - val_loss: 1.0804e-05\n",
      "Epoch 40/50\n",
      "181/181 [==============================] - 0s 61us/sample - loss: 1.8115e-05 - val_loss: 1.0642e-05\n",
      "Epoch 41/50\n",
      "181/181 [==============================] - 0s 61us/sample - loss: 1.8655e-05 - val_loss: 1.0621e-05\n",
      "Epoch 42/50\n",
      "181/181 [==============================] - 0s 61us/sample - loss: 1.7969e-05 - val_loss: 1.0556e-05\n",
      "Epoch 43/50\n",
      "181/181 [==============================] - 0s 61us/sample - loss: 1.8055e-05 - val_loss: 1.0563e-05\n",
      "Epoch 44/50\n",
      "181/181 [==============================] - 0s 55us/sample - loss: 1.8154e-05 - val_loss: 1.0585e-05\n",
      "Epoch 45/50\n",
      "181/181 [==============================] - 0s 83us/sample - loss: 1.7518e-05 - val_loss: 1.0548e-05\n",
      "Epoch 46/50\n",
      "181/181 [==============================] - 0s 72us/sample - loss: 1.8149e-05 - val_loss: 1.0431e-05\n",
      "Epoch 47/50\n",
      "181/181 [==============================] - 0s 61us/sample - loss: 1.8104e-05 - val_loss: 1.0423e-05\n",
      "Epoch 48/50\n",
      "181/181 [==============================] - 0s 72us/sample - loss: 1.8195e-05 - val_loss: 1.0547e-05\n",
      "Epoch 49/50\n",
      "181/181 [==============================] - 0s 61us/sample - loss: 1.8077e-05 - val_loss: 1.0812e-05\n",
      "Epoch 50/50\n",
      "181/181 [==============================] - 0s 72us/sample - loss: 1.7572e-05 - val_loss: 1.0876e-05\n"
     ]
    }
   ],
   "source": [
    "# Train model (note Y labels are same as inputs, X)\n",
    "history = model.fit(x_train,\n",
    "                   x_train,\n",
    "                   epochs=50,\n",
    "                   batch_size=100,\n",
    "                   validation_data=(x_val, x_val),\n",
    "                   verbose=1)"
   ]
  },
  {
   "cell_type": "code",
   "execution_count": 66,
   "metadata": {},
   "outputs": [
    {
     "data": {
      "image/png": "[encoded data removed]",
      "text/plain": [
       "<Figure size 432x288 with 1 Axes>"
      ]
     },
     "metadata": {
      "needs_background": "light"
     },
     "output_type": "display_data"
    }
   ],
   "source": [
    "# Plot results\n",
    "loss = history.history['loss']\n",
    "val_loss = history.history['val_loss']\n",
    "\n",
    "epochs = range(1, len(loss) + 1)\n",
    "\n",
    "plt.figure()\n",
    "\n",
    "plt.plot(epochs, loss, 'bo', label='Training loss')\n",
    "plt.plot(epochs, val_loss, 'b', label='Validation loss')\n",
    "plt.title('Training and validation loss')\n",
    "plt.legend()\n",
    "\n",
    "plt.show()"
   ]
  },
  {
   "cell_type": "code",
   "execution_count": 68,
   "metadata": {},
   "outputs": [
    {
     "name": "stdout",
     "output_type": "stream",
     "text": [
      "Average MSE for normal validation set: 1.0876377078421948e-05\n",
      "Standard deviation of MSE for normal validation set: 9.43928085720735e-06\n",
      "Recommended threshold (3x std dev + avg): 3.9194219650043994e-05\n"
     ]
    },
    {
     "data": {
      "text/plain": [
       "(array([19., 15.,  5.,  7.,  4.,  2.,  0.,  3.,  0.,  1.,  0.,  0.,  1.,\n",
       "         0.,  0.,  0.,  0.,  1.,  0.,  1.]),\n",
       " array([3.34983955e-06, 5.83323533e-06, 8.31663112e-06, 1.08000269e-05,\n",
       "        1.32834227e-05, 1.57668185e-05, 1.82502143e-05, 2.07336101e-05,\n",
       "        2.32170059e-05, 2.57004016e-05, 2.81837974e-05, 3.06671932e-05,\n",
       "        3.31505890e-05, 3.56339848e-05, 3.81173806e-05, 4.06007764e-05,\n",
       "        4.30841722e-05, 4.55675680e-05, 4.80509637e-05, 5.05343595e-05,\n",
       "        5.30177553e-05]),\n",
       " <a list of 20 Patch objects>)"
      ]
     },
     "execution_count": 68,
     "metadata": {},
     "output_type": "execute_result"
    },
    {
     "data": {
      "image/png": "[encoded data removed]",
      "text/plain": [
       "<Figure size 432x288 with 1 Axes>"
      ]
     },
     "metadata": {
      "needs_background": "light"
     },
     "output_type": "display_data"
    }
   ],
   "source": [
    "# Calculate MSE from validation set\n",
    "predictions = model.predict(x_val)\n",
    "normal_mse = np.mean(np.power(x_val - predictions, 2), axis=1)\n",
    "print('Average MSE for normal validation set:', np.average(normal_mse))\n",
    "print('Standard deviation of MSE for normal validation set:', np.std(normal_mse))\n",
    "print('Recommended threshold (3x std dev + avg):', (3*np.std(normal_mse)) + np.average(normal_mse))\n",
    "fig, ax = plt.subplots(1,1)\n",
    "ax.hist(normal_mse, bins=20, label='normal', color='blue', alpha=0.7)"
   ]
  },
  {
   "cell_type": "code",
   "execution_count": 69,
   "metadata": {},
   "outputs": [
    {
     "name": "stdout",
     "output_type": "stream",
     "text": [
      "Extracted features from anomaly set. Shape: (59, 3)\n"
     ]
    }
   ],
   "source": [
    "# Extract features from anomaly test set (truncate to length of X test set)\n",
    "anomaly_ops_trunc = anomaly_op_filenames[0:len(normal_mse)]\n",
    "anomaly_features = create_feature_set(anomaly_ops_trunc)\n",
    "print('Extracted features from anomaly set. Shape:', anomaly_features.shape)"
   ]
  },
  {
   "cell_type": "code",
   "execution_count": 70,
   "metadata": {},
   "outputs": [
    {
     "name": "stdout",
     "output_type": "stream",
     "text": [
      "Average MSE for for anomaly test set: 0.0007622960418707556\n"
     ]
    }
   ],
   "source": [
    "# Calculate MSE from anomaly set\n",
    "predictions = model.predict(anomaly_features)\n",
    "anomaly_mse = np.mean(np.power(anomaly_features - predictions, 2), axis=1)\n",
    "print('Average MSE for for anomaly test set:', np.average(anomaly_mse))"
   ]
  },
  {
   "cell_type": "code",
   "execution_count": 71,
   "metadata": {},
   "outputs": [
    {
     "data": {
      "text/plain": [
       "(array([26.,  0.,  5.,  3.,  0.,  0.,  0.,  0.,  0.,  0.,  0.,  1.,  2.,\n",
       "         6.,  2.,  6.,  4.,  0.,  3.,  1.]),\n",
       " array([9.54859542e-06, 1.17009652e-04, 2.24470708e-04, 3.31931765e-04,\n",
       "        4.39392821e-04, 5.46853877e-04, 6.54314934e-04, 7.61775990e-04,\n",
       "        8.69237046e-04, 9.76698103e-04, 1.08415916e-03, 1.19162022e-03,\n",
       "        1.29908127e-03, 1.40654233e-03, 1.51400338e-03, 1.62146444e-03,\n",
       "        1.72892550e-03, 1.83638655e-03, 1.94384761e-03, 2.05130867e-03,\n",
       "        2.15876972e-03]),\n",
       " <a list of 20 Patch objects>)"
      ]
     },
     "execution_count": 71,
     "metadata": {},
     "output_type": "execute_result"
    },
    {
     "data": {
      "image/png": "[encoded data removed]",
      "text/plain": [
       "<Figure size 432x288 with 1 Axes>"
      ]
     },
     "metadata": {
      "needs_background": "light"
     },
     "output_type": "display_data"
    }
   ],
   "source": [
    "# Plot histograms of normal validation vs. anomaly sets (MSEs)\n",
    "fig, ax = plt.subplots(1,1)\n",
    "plt.xscale(\"log\")\n",
    "ax.hist(normal_mse, bins=20, label='normal', color='blue', alpha=0.7)\n",
    "ax.hist(anomaly_mse, bins=20, label='anomaly', color='red', alpha=0.7)"
   ]
  },
  {
   "cell_type": "code",
   "execution_count": 72,
   "metadata": {},
   "outputs": [
    {
     "name": "stdout",
     "output_type": "stream",
     "text": [
      "Average MSE for normal test set: 1.7584283100146983e-05\n"
     ]
    }
   ],
   "source": [
    "# Look at separation using test set\n",
    "predictions = model.predict(x_test)\n",
    "normal_mse = np.mean(np.power(x_test - predictions, 2), axis=1)\n",
    "print('Average MSE for normal test set:', np.average(normal_mse))"
   ]
  },
  {
   "cell_type": "code",
   "execution_count": 73,
   "metadata": {},
   "outputs": [
    {
     "data": {
      "text/plain": [
       "(array([26.,  0.,  5.,  3.,  0.,  0.,  0.,  0.,  0.,  0.,  0.,  1.,  2.,\n",
       "         6.,  2.,  6.,  4.,  0.,  3.,  1.]),\n",
       " array([9.54859542e-06, 1.17009652e-04, 2.24470708e-04, 3.31931765e-04,\n",
       "        4.39392821e-04, 5.46853877e-04, 6.54314934e-04, 7.61775990e-04,\n",
       "        8.69237046e-04, 9.76698103e-04, 1.08415916e-03, 1.19162022e-03,\n",
       "        1.29908127e-03, 1.40654233e-03, 1.51400338e-03, 1.62146444e-03,\n",
       "        1.72892550e-03, 1.83638655e-03, 1.94384761e-03, 2.05130867e-03,\n",
       "        2.15876972e-03]),\n",
       " <a list of 20 Patch objects>)"
      ]
     },
     "execution_count": 73,
     "metadata": {},
     "output_type": "execute_result"
    },
    {
     "data": {
      "image/png": "[encoded data removed]",
      "text/plain": [
       "<Figure size 432x288 with 1 Axes>"
      ]
     },
     "metadata": {
      "needs_background": "light"
     },
     "output_type": "display_data"
    }
   ],
   "source": [
    "# Plot histograms of normal test vs. anomaly sets (MSEs)\n",
    "fig, ax = plt.subplots(1,1)\n",
    "plt.xscale(\"log\")\n",
    "ax.hist(normal_mse, bins=20, label='normal', color='blue', alpha=0.7)\n",
    "ax.hist(anomaly_mse, bins=20, label='anomaly', color='red', alpha=0.7)"
   ]
  },
  {
   "cell_type": "code",
   "execution_count": 74,
   "metadata": {},
   "outputs": [],
   "source": [
    "# If we're happy with the performance, save the model\n",
    "model.save(keras_model_name + '.h5')"
   ]
  },
  {
   "cell_type": "code",
   "execution_count": 80,
   "metadata": {},
   "outputs": [],
   "source": [
    "# Save a normal and anomaly sample for trying out on the MCU\n",
    "normal_sample = np.genfromtxt(filenames_test[0], delimiter=',')\n",
    "anomaly_sample = np.genfromtxt(anomaly_op_filenames[0], delimiter=',')\n",
    "np.savez(sample_file_name + '.npz', normal_sample=normal_sample, anomaly_sample=anomaly_sample)"
   ]
  },
  {
   "cell_type": "code",
   "execution_count": 81,
   "metadata": {},
   "outputs": [],
   "source": [
    "# Save the test dataset for use as a representative dataset\n",
    "np.savez(rep_dataset_name + '.npz', x_test=x_test)"
   ]
  },
  {
   "cell_type": "code",
   "execution_count": 82,
   "metadata": {},
   "outputs": [],
   "source": [
    "# Create a classifier (0 = normal, 1 = anomaly)\n",
    "def detect_anomaly(x, model, threshold=0):\n",
    "    input_tensor = x_test[0].reshape(1, -1)\n",
    "    pred = model.predict(input_tensor)\n",
    "    mse = np.mean(np.power(x - pred, 2), axis=1)\n",
    "    if mse > threshold:\n",
    "        return 1\n",
    "    else:\n",
    "        return 0"
   ]
  },
  {
   "cell_type": "code",
   "execution_count": 84,
   "metadata": {},
   "outputs": [],
   "source": [
    "# Choose a threshold\n",
    "anomaly_threshold = 3e-05"
   ]
  },
  {
   "cell_type": "code",
   "execution_count": 85,
   "metadata": {},
   "outputs": [
    {
     "name": "stdout",
     "output_type": "stream",
     "text": [
      "[0, 1, 0, 0, 0, 0, 0, 0, 0, 0, 1, 0, 1, 0, 0, 0, 0, 1, 0, 0, 0, 0, 0, 0, 1, 0, 0, 0, 0, 1, 0, 0, 0, 1, 0, 0, 0, 0, 0, 0, 0, 0, 0, 0, 1, 0, 0, 0, 0, 0, 0, 0, 0, 0, 0, 0, 0, 1, 0]\n"
     ]
    }
   ],
   "source": [
    "# Perform classification on test set\n",
    "pred_test = [detect_anomaly(x, model, anomaly_threshold) for x in x_test]\n",
    "print(pred_test)"
   ]
  },
  {
   "cell_type": "code",
   "execution_count": 86,
   "metadata": {},
   "outputs": [
    {
     "name": "stdout",
     "output_type": "stream",
     "text": [
      "[0, 1, 1, 1, 0, 1, 1, 1, 1, 1, 1, 1, 1, 1, 1, 0, 0, 1, 1, 1, 1, 1, 1, 1, 1, 1, 0, 1, 0, 1, 1, 1, 1, 1, 1, 0, 1, 1, 0, 0, 1, 1, 1, 0, 1, 1, 1, 1, 1, 1, 1, 1, 1, 1, 1, 0, 1, 0, 1]\n"
     ]
    }
   ],
   "source": [
    "# Perform classification on anomaly set\n",
    "pred_anomaly = [detect_anomaly(x, model, anomaly_threshold) for x in anomaly_features]\n",
    "print(pred_anomaly)"
   ]
  },
  {
   "cell_type": "code",
   "execution_count": 87,
   "metadata": {},
   "outputs": [],
   "source": [
    "# Combine predictions into one long list and create a label list\n",
    "pred = np.array(pred_test + pred_anomaly)\n",
    "labels = ([0] * len(pred_test)) + ([1] * len(pred_anomaly))"
   ]
  },
  {
   "cell_type": "code",
   "execution_count": 88,
   "metadata": {},
   "outputs": [
    {
     "name": "stdout",
     "output_type": "stream",
     "text": [
      "[[50  9]\n",
      " [12 47]]\n"
     ]
    }
   ],
   "source": [
    "# Create confusion matrix\n",
    "cm = confusion_matrix(labels, pred)\n",
    "print(cm)"
   ]
  },
  {
   "cell_type": "code",
   "execution_count": 89,
   "metadata": {},
   "outputs": [
    {
     "data": {
      "text/plain": [
       "Text(33.0, 0.5, 'Actual')"
      ]
     },
     "execution_count": 89,
     "metadata": {},
     "output_type": "execute_result"
    },
    {
     "data": {
      "image/png": "[encoded data removed]",
      "text/plain": [
       "<Figure size 432x288 with 2 Axes>"
      ]
     },
     "metadata": {
      "needs_background": "light"
     },
     "output_type": "display_data"
    }
   ],
   "source": [
    "# Make confusion matrix pretty\n",
    "df_cm = pd.DataFrame(cm, index=['normal', 'anomaly'], columns=['normal', 'anomaly'])\n",
    "plt.figure()\n",
    "sn.heatmap(df_cm, annot=True)\n",
    "plt.title('Confusion Matrix')\n",
    "plt.xlabel('Prediction')\n",
    "plt.ylabel('Actual')"
   ]
  },
  {
   "cell_type": "code",
   "execution_count": null,
   "metadata": {},
   "outputs": [],
   "source": []
  }
 ],
 "metadata": {
  "kernelspec": {
   "display_name": "Python 3",
   "language": "python",
   "name": "python3"
  },
  "language_info": {
   "codemirror_mode": {
    "name": "ipython",
    "version": 3
   },
   "file_extension": ".py",
   "mimetype": "text/x-python",
   "name": "python",
   "nbconvert_exporter": "python",
   "pygments_lexer": "ipython3",
   "version": "3.7.6"
  }
 },
 "nbformat": 4,
 "nbformat_minor": 4
}
