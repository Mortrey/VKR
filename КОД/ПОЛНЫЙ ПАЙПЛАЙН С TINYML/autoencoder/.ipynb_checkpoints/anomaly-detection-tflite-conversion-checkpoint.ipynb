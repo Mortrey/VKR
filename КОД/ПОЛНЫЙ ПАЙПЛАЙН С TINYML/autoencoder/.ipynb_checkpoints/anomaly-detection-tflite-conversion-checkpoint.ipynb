{
 "cells": [
  {
   "cell_type": "markdown",
   "metadata": {},
   "source": [
    "TensorFlow Lite Conversion\n",
    "---\n",
    "Convert the full Keras model into a smaller TensorFlow Lite model file. Then, read in the raw hex bytes from the model file and write them to a separate C header file as an array."
   ]
  },
  {
   "cell_type": "code",
   "execution_count": 2,
   "metadata": {},
   "outputs": [
    {
     "ename": "SyntaxError",
     "evalue": "invalid syntax (<ipython-input-2-5a61b3b518e9>, line 7)",
     "output_type": "error",
     "traceback": [
      "\u001b[1;36m  File \u001b[1;32m\"<ipython-input-2-5a61b3b518e9>\"\u001b[1;36m, line \u001b[1;32m7\u001b[0m\n\u001b[1;33m    import ../utils/c_writer\u001b[0m\n\u001b[1;37m           ^\u001b[0m\n\u001b[1;31mSyntaxError\u001b[0m\u001b[1;31m:\u001b[0m invalid syntax\n"
     ]
    }
   ],
   "source": [
    "from os.path import join\n",
    "import numpy as np\n",
    "import matplotlib.pyplot as plt\n",
    "import tensorflow as tf\n",
    "from tensorflow.keras import models\n",
    "from scipy import stats\n",
    "import ../utils/c_writer"
   ]
  },
  {
   "cell_type": "code",
   "execution_count": 2,
   "metadata": {},
   "outputs": [
    {
     "name": "stdout",
     "output_type": "stream",
     "text": [
      "Python 3.7.6\n",
      "Numpy 1.18.1\n",
      "TensorFlow 2.1.0\n",
      "Keras 2.2.4-tf\n"
     ]
    }
   ],
   "source": [
    "# Print versions\n",
    "!python --version\n",
    "print('Numpy ' + np.__version__)\n",
    "print('TensorFlow ' + tf.__version__)\n",
    "print('Keras ' + tf.keras.__version__)"
   ]
  },
  {
   "cell_type": "code",
   "execution_count": 3,
   "metadata": {},
   "outputs": [],
   "source": [
    "# Settings\n",
    "models_path = 'models'  # Where we can find the model files (relative path location)\n",
    "keras_model_name = 'fan_low_model-deploy'           # Will be given .h5 suffix\n",
    "tflite_model_name = 'fan_low_model-deploy'          # Will be given .tflite suffix\n",
    "c_model_name = 'fan_low_model'               # Will be given .h suffix"
   ]
  },
  {
   "cell_type": "code",
   "execution_count": 4,
   "metadata": {},
   "outputs": [],
   "source": [
    "# Load model\n",
    "model = models.load_model(join(models_path, keras_model_name) + '.h5')"
   ]
  },
  {
   "cell_type": "code",
   "execution_count": 5,
   "metadata": {},
   "outputs": [
    {
     "data": {
      "text/plain": [
       "1168"
      ]
     },
     "execution_count": 5,
     "metadata": {},
     "output_type": "execute_result"
    }
   ],
   "source": [
    "# Convert Keras model to a tflite model\n",
    "converter = tf.lite.TFLiteConverter.from_keras_model(model)\n",
    "tflite_model = converter.convert()\n",
    "open(join(models_path, tflite_model_name) + '.tflite', 'wb').write(tflite_model)"
   ]
  },
  {
   "cell_type": "code",
   "execution_count": 6,
   "metadata": {},
   "outputs": [],
   "source": [
    "# Construct header file\n",
    "hex_array = [format(val, '#04x') for val in tflite_model]\n",
    "c_model = c_writer.create_array(np.array(hex_array), 'unsigned char', c_model_name)\n",
    "header_str = c_writer.create_header(c_model, c_model_name)"
   ]
  },
  {
   "cell_type": "code",
   "execution_count": 7,
   "metadata": {},
   "outputs": [],
   "source": [
    "# Save C header file\n",
    "with open(join(models_path, c_model_name) + '.h', 'w') as file:\n",
    "    file.write(header_str)"
   ]
  },
  {
   "cell_type": "markdown",
   "metadata": {},
   "source": [
    "Test Inference\n",
    "---\n",
    "Get known good values from the model for normal and anomaly samples to compare against C++ implementation."
   ]
  },
  {
   "cell_type": "code",
   "execution_count": 10,
   "metadata": {},
   "outputs": [],
   "source": [
    "# Saved Numpy test samples file location\n",
    "sample_file_path = 'test_samples'\n",
    "sample_file_name = 'normal_anomaly_samples'  # Will be given .npz suffix\n",
    "\n",
    "sensor_sample_rate = 200    # Hz\n",
    "sample_time = 0.64           # Time (sec) length of each sample\n",
    "max_measurements = int(sample_time * sensor_sample_rate)"
   ]
  },
  {
   "cell_type": "code",
   "execution_count": 9,
   "metadata": {},
   "outputs": [
    {
     "name": "stdout",
     "output_type": "stream",
     "text": [
      "(200, 3)\n",
      "(200, 3)\n",
      "[[-0.004395  0.208008  0.975586]\n",
      " [-0.007324  0.203125  0.979981]\n",
      " [-0.01416   0.200195  0.978027]\n",
      " [-0.002441  0.21582   0.979981]\n",
      " [-0.022461  0.19873   0.977051]]\n"
     ]
    }
   ],
   "source": [
    "# Load test samples\n",
    "with np.load(join(sample_file_path, sample_file_name) + '.npz') as data:\n",
    "    normal_sample = data['normal_sample']\n",
    "    anomaly_sample = data['anomaly_sample']\n",
    "print(normal_sample.shape)\n",
    "print(anomaly_sample.shape)\n",
    "print(normal_sample[:5])"
   ]
  },
  {
   "cell_type": "code",
   "execution_count": 18,
   "metadata": {},
   "outputs": [
    {
     "name": "stdout",
     "output_type": "stream",
     "text": [
      "Normal MAD: [0.01158355 0.00651454 0.00434402]\n",
      "Anomaly MAD: [0.05176053 0.03945347 0.01918336]\n"
     ]
    }
   ],
   "source": [
    "# Test extracting features (median absolute deviation) using SciPy\n",
    "sample = normal_sample[0:max_measurements]                  # Truncate to 128 measurements\n",
    "normal_x = stats.median_absolute_deviation(sample)  # Calculate MAD\n",
    "sample = anomaly_sample[0:max_measurements]\n",
    "anomaly_x = stats.median_absolute_deviation(sample)\n",
    "print(\"Normal MAD:\", normal_x)\n",
    "print(\"Anomaly MAD:\", anomaly_x)"
   ]
  },
  {
   "cell_type": "code",
   "execution_count": 36,
   "metadata": {},
   "outputs": [
    {
     "name": "stdout",
     "output_type": "stream",
     "text": [
      "Prediction: [[0.01201087 0.00702382 0.00489424]]\n",
      "MSE: 2.482355175648483e-07\n"
     ]
    }
   ],
   "source": [
    "# Perform inference and find MSE with normal sample\n",
    "input_tensor = normal_x.reshape(1, -1)\n",
    "pred = model.predict(input_tensor)\n",
    "mse = np.mean(np.power(normal_x - pred, 2), axis=1)\n",
    "print(\"Prediction:\", pred)\n",
    "print(\"MSE:\", *mse)"
   ]
  },
  {
   "cell_type": "code",
   "execution_count": 37,
   "metadata": {},
   "outputs": [
    {
     "name": "stdout",
     "output_type": "stream",
     "text": [
      "Prediction: [[0.01360194 0.00842144 0.00505419]]\n",
      "MSE: 0.0008728993710694735\n"
     ]
    }
   ],
   "source": [
    "# Perform inference and find MSE with anomaly sample\n",
    "input_tensor = anomaly_x.reshape(1, -1)\n",
    "pred = model.predict(input_tensor)\n",
    "mse = np.mean(np.power(anomaly_x - pred, 2), axis=1)\n",
    "print(\"Prediction:\", pred)\n",
    "print(\"MSE:\", *mse)"
   ]
  },
  {
   "cell_type": "code",
   "execution_count": null,
   "metadata": {},
   "outputs": [],
   "source": []
  }
 ],
 "metadata": {
  "kernelspec": {
   "display_name": "Python 3",
   "language": "python",
   "name": "python3"
  },
  "language_info": {
   "codemirror_mode": {
    "name": "ipython",
    "version": 3
   },
   "file_extension": ".py",
   "mimetype": "text/x-python",
   "name": "python",
   "nbconvert_exporter": "python",
   "pygments_lexer": "ipython3",
   "version": "3.7.6"
  }
 },
 "nbformat": 4,
 "nbformat_minor": 4
}
